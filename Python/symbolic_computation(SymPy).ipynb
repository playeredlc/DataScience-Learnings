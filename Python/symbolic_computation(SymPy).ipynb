{
 "cells": [
  {
   "cell_type": "code",
   "execution_count": 1,
   "id": "crucial-recovery",
   "metadata": {},
   "outputs": [],
   "source": [
    "%matplotlib inline\n",
    "import matplotlib.pyplot as plt\n",
    "from mpl_toolkits.mplot3d.axes3d import Axes3D #https://matplotlib.org/mpl_toolkits/mplot3d/\n",
    "from matplotlib import cm # color map\n",
    "import numpy as np\n",
    "\n",
    "from sympy import symbols, diff"
   ]
  },
  {
   "cell_type": "markdown",
   "id": "convenient-hands",
   "metadata": {},
   "source": [
    "---\n",
    "### *Symbolic computation with SimPy*\n",
    "##### *'The real power of a symbolic computation system such as SymPy is the ability to do all sorts of computations symbolically. SymPy can simplify expressions, compute derivatives, integrals, and limits, solve equations, work with matrices, and much, much more, and do it all symbolically.'*"
   ]
  },
  {
   "cell_type": "markdown",
   "id": "based-bradford",
   "metadata": {},
   "source": [
    "#### $f(x, y) = \\frac{1}{3^{x² - y²} + 1}$"
   ]
  },
  {
   "cell_type": "code",
   "execution_count": 2,
   "id": "streaming-uruguay",
   "metadata": {},
   "outputs": [],
   "source": [
    "def f(x, y):\n",
    "    pol = pow(3, (-x**2 - y**2))\n",
    "    return 1 / (pol + 1)"
   ]
  },
  {
   "cell_type": "code",
   "execution_count": 3,
   "id": "deluxe-thesaurus",
   "metadata": {
    "scrolled": true
   },
   "outputs": [
    {
     "name": "stdout",
     "output_type": "stream",
     "text": [
      "Cost function:  1/(3**(-x**2 - y**2) + 1)\n",
      "Partial derivative wrt x:  2*3**(-x**2 - y**2)*x*log(3)/(3**(-x**2 - y**2) + 1)**2\n",
      "f(1.5, 2.5) =  0.999912010445299\n",
      "Evaluated partial derivative wrt x:  0.0368089716197505\n"
     ]
    }
   ],
   "source": [
    "# https://docs.sympy.org/latest/tutorial/gotchas.html#tutorial-gotchas-symbols\n",
    "x, y = symbols('x, y') # in SymPy, variables are defined using symbols (sympy.core.symbol.Symbol)\n",
    "print('Cost function: ', f(x, y))\n",
    "print('Partial derivative wrt x: ', diff(f(x, y), x)) # derivative of f(x,y) with respect to x\n",
    "\n",
    "# evaluate function at some particular point (say, x= 1.5, y=2.5)\n",
    "print('f(1.5, 2.5) = ', \n",
    "      f(x, y).evalf(subs={x: 1.5, y: 2.5})) # python dictionary notation\n",
    "print('Evaluated partial derivative wrt x: ',\n",
    "      diff(f(x, y), x).evalf(subs={x: 1.8, y: 1.0}))"
   ]
  },
  {
   "cell_type": "markdown",
   "id": "extraordinary-dining",
   "metadata": {},
   "source": [
    "---\n",
    "##### Example:\n",
    "#### *Gradient Descent with SymPy*"
   ]
  },
  {
   "cell_type": "code",
   "execution_count": 4,
   "id": "stretch-mayor",
   "metadata": {},
   "outputs": [
    {
     "name": "stdout",
     "output_type": "stream",
     "text": [
      "Derivatives array:  [0.000175507920613601 0.000285200370997101]\n",
      "Minimum at x:  0.000301957595791070\n",
      "Minimum at y:  0.000490681093160489\n",
      "Cost found:  0.500000091170078\n"
     ]
    }
   ],
   "source": [
    "# setup algorithm variables\n",
    "learning_rate = 0.1\n",
    "max_iter = 150\n",
    "params = np.array([0.8, 1.3]) # initial guesses for x and y\n",
    "\n",
    "for i in range(max_iter):\n",
    "    gradient_x = diff(f(x, y), x).evalf(subs={x: params[0], y: params[1]}) # value of the slope wrt x \n",
    "    gradient_y = diff(f(x, y), y).evalf(subs={x: params[0], y: params[1]}) # value of the slope wrt y \n",
    "    gradients = np.array([gradient_x, gradient_y])\n",
    "    params = params - learning_rate * gradients # update the whole array at once\n",
    "\n",
    "print('Derivatives array: ', gradients)\n",
    "print('Minimum at x: ', params[0])\n",
    "print('Minimum at y: ', params[1])\n",
    "print('Cost found: ', f(x, y).evalf(subs={x: params[0], y: params[1]}))"
   ]
  }
 ],
 "metadata": {
  "kernelspec": {
   "display_name": "Python 3",
   "language": "python",
   "name": "python3"
  },
  "language_info": {
   "codemirror_mode": {
    "name": "ipython",
    "version": 3
   },
   "file_extension": ".py",
   "mimetype": "text/x-python",
   "name": "python",
   "nbconvert_exporter": "python",
   "pygments_lexer": "ipython3",
   "version": "3.8.5"
  }
 },
 "nbformat": 4,
 "nbformat_minor": 5
}
