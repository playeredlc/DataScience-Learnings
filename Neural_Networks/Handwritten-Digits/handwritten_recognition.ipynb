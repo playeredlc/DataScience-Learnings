{
 "cells": [
  {
   "cell_type": "code",
   "execution_count": 1,
   "id": "ef18c98e",
   "metadata": {
    "scrolled": true
   },
   "outputs": [],
   "source": [
    "# set seed for reproducibility purposes.\n",
    "from numpy.random import seed\n",
    "seed(888)\n",
    "from tensorflow.random import set_seed\n",
    "set_seed(404)"
   ]
  },
  {
   "cell_type": "code",
   "execution_count": 2,
   "id": "febefaa7",
   "metadata": {},
   "outputs": [],
   "source": [
    "import tensorflow as tf\n",
    "import numpy as np\n",
    "import os\n",
    "from time import strftime"
   ]
  },
  {
   "cell_type": "code",
   "execution_count": 3,
   "id": "46ffa571",
   "metadata": {},
   "outputs": [],
   "source": [
    "# CONSTANTS\n",
    "X_TRAIN_PATH = 'MNIST_Dataset/digit_xtrain.csv'\n",
    "X_TEST_PATH = 'MNIST_Dataset/digit_xtest.csv'\n",
    "Y_TRAIN_PATH = 'MNIST_Dataset/digit_ytrain.csv'\n",
    "Y_TEST_PATH = 'MNIST_Dataset/digit_ytest.csv'\n",
    "\n",
    "IMAGE_WIDTH = 28\n",
    "IMAGE_HEIGHT = 28\n",
    "NUM_CHANNELS = 1\n",
    "TOTAL_INPUTS = IMAGE_WIDTH * IMAGE_HEIGHT * NUM_CHANNELS\n",
    "NUM_CLASSES = 10 # digits from 0-9\n",
    "VALIDATION_SIZE = 10000\n",
    "\n",
    "LOGGING_PATH = 'tensorboard_mnist_logs/'"
   ]
  },
  {
   "cell_type": "markdown",
   "id": "ff0f1c45",
   "metadata": {},
   "source": [
    "## *Load Data*"
   ]
  },
  {
   "cell_type": "code",
   "execution_count": 4,
   "id": "b13ca2a4",
   "metadata": {},
   "outputs": [
    {
     "name": "stdout",
     "output_type": "stream",
     "text": [
      "Y Train shape:  (60000,)\n",
      "Y Test shape:  (10000,)\n",
      "CPU times: user 204 ms, sys: 3.27 ms, total: 207 ms\n",
      "Wall time: 212 ms\n"
     ]
    }
   ],
   "source": [
    "%%time\n",
    "\n",
    "y_train_data = np.loadtxt(Y_TRAIN_PATH, delimiter=',', dtype=int)\n",
    "print('Y Train shape: ', y_train_data.shape)\n",
    "\n",
    "y_test = np.loadtxt(Y_TEST_PATH, delimiter=',', dtype=int)\n",
    "print('Y Test shape: ', y_test.shape)"
   ]
  },
  {
   "cell_type": "code",
   "execution_count": null,
   "id": "7e83273e",
   "metadata": {
    "scrolled": false
   },
   "outputs": [],
   "source": [
    "%%time\n",
    "\n",
    "x_train_data = np.loadtxt(X_TRAIN_PATH, delimiter=',', dtype=int)\n",
    "print('X Train shape: ', x_train_data.shape)\n",
    "\n",
    "x_test = np.loadtxt(X_TEST_PATH, delimiter=',', dtype=int)\n",
    "print('X Test shape: ', x_test.shape)"
   ]
  },
  {
   "cell_type": "markdown",
   "id": "a1bef60f",
   "metadata": {},
   "source": [
    "---"
   ]
  },
  {
   "cell_type": "markdown",
   "id": "b52f9809",
   "metadata": {},
   "source": [
    "## *Data preprocessing*"
   ]
  },
  {
   "cell_type": "code",
   "execution_count": null,
   "id": "e37f5380",
   "metadata": {},
   "outputs": [],
   "source": [
    "# re-scale training data from 0-255 to 0-1\n",
    "x_train_data, x_test = x_train_data/255.0, x_test/255.0\n",
    "\n",
    "# convert target values (labels) to one-hot-encoding\n",
    "y_train_data = np.eye(NUM_CLASSES)[y_train_data]\n",
    "print('Y Train shape: ', y_train_data.shape)\n",
    "\n",
    "y_test = np.eye(NUM_CLASSES)[y_test]\n",
    "print('Y Test shape: ', y_test.shape)"
   ]
  },
  {
   "cell_type": "markdown",
   "id": "c11757f2",
   "metadata": {},
   "source": [
    "### *Create validation dataset from training data*"
   ]
  },
  {
   "cell_type": "code",
   "execution_count": null,
   "id": "26064195",
   "metadata": {},
   "outputs": [],
   "source": [
    "x_val = x_train_data[:VALIDATION_SIZE]\n",
    "y_val = y_train_data[:VALIDATION_SIZE]\n",
    "\n",
    "x_train = x_train_data[VALIDATION_SIZE:]\n",
    "y_train = y_train_data[VALIDATION_SIZE:]\n",
    "\n",
    "print('Validation shape: ', x_val.shape, y_val.shape)\n",
    "print('New training shape: ', x_train.shape, y_train.shape)\n"
   ]
  },
  {
   "cell_type": "markdown",
   "id": "16319de4",
   "metadata": {},
   "source": [
    "---"
   ]
  },
  {
   "cell_type": "markdown",
   "id": "7a68b130",
   "metadata": {},
   "source": [
    "## *Setup tensorflow graph*"
   ]
  },
  {
   "cell_type": "code",
   "execution_count": null,
   "id": "fc331248",
   "metadata": {},
   "outputs": [],
   "source": [
    "# https://www.tensorflow.org/api_docs/python/tf/compat/v1/placeholder\n",
    "\n",
    "# from docs: \"... This API is strongly discouraged for use with eager execution and tf.function.\"\n",
    "tf.compat.v1.disable_eager_execution()\n",
    "\n",
    "# features placeholder\n",
    "X = tf.compat.v1.placeholder(tf.float32, shape=[None, TOTAL_INPUTS], name='X')\n",
    "\n",
    "#labels placeholder\n",
    "Y = tf.compat.v1.placeholder(tf.float32, shape=[None, NUM_CLASSES], name='Labels')"
   ]
  },
  {
   "cell_type": "markdown",
   "id": "23949ac8",
   "metadata": {},
   "source": [
    "### *Neural network definition*"
   ]
  },
  {
   "cell_type": "code",
   "execution_count": null,
   "id": "0daf3d37",
   "metadata": {},
   "outputs": [],
   "source": [
    "# hyperparameters\n",
    "num_epochs = 5\n",
    "learning_rate = 1e-4\n",
    "\n",
    "n_hidden1 = 512 # layer 1\n",
    "n_hidden2 = 64 # layer 2"
   ]
  },
  {
   "cell_type": "markdown",
   "id": "e0a13c0b",
   "metadata": {},
   "source": [
    "#### *Setup 1st layer*"
   ]
  },
  {
   "cell_type": "code",
   "execution_count": null,
   "id": "e798d49c",
   "metadata": {},
   "outputs": [],
   "source": [
    "# set initial random weights for 1st layer\n",
    "initial_w1 = tf.random.truncated_normal(shape=[TOTAL_INPUTS, n_hidden1], stddev=0.1)\n",
    "# create tf variable for weights\n",
    "w1 = tf.Variable(initial_value=initial_w1, name='w1')"
   ]
  },
  {
   "cell_type": "code",
   "execution_count": null,
   "id": "4e3b57c7",
   "metadata": {},
   "outputs": [],
   "source": [
    "# set initial bias for 1st layer\n",
    "initial_b1 = tf.constant(value=0.0, shape=[n_hidden1])\n",
    "b1 = tf.Variable(initial_value=initial_b1, name='b1')"
   ]
  },
  {
   "cell_type": "code",
   "execution_count": null,
   "id": "76fecb58",
   "metadata": {},
   "outputs": [],
   "source": [
    "# https://www.tensorflow.org/api_docs/python/tf/linalg/matmul\n",
    "\n",
    "# set 1st layer inputs (X which is the raw inputs multiplied by the weights (matrix mult) + bias)\n",
    "# this result is what feeds the activation function\n",
    "layer1_in = tf.matmul(X, w1) + b1\n",
    "\n",
    "# set 1st layer outputs using rectified linear (activation function)\n",
    "layer1_out = tf.nn.relu(layer1_in)"
   ]
  },
  {
   "cell_type": "markdown",
   "id": "a2b12a24",
   "metadata": {},
   "source": [
    "##### *Setup 2nd layer*"
   ]
  },
  {
   "cell_type": "code",
   "execution_count": null,
   "id": "ce4f3bbc",
   "metadata": {},
   "outputs": [],
   "source": [
    "# setup weights and biases\n",
    "initial_w2 = tf.random.truncated_normal(shape=[n_hidden1, n_hidden2], stddev=0.1)\n",
    "w2 = tf.Variable(initial_value=initial_w2, name='w2')\n",
    "initial_b2 = tf.constant(value=0.0, shape=[n_hidden2])\n",
    "b2 = tf.Variable(initial_value=initial_b2, name='b2')\n",
    "\n",
    "# setup inputs and outputs\n",
    "layer2_in = tf.matmul(layer1_out, w2) + b2\n",
    "layer2_out = tf.nn.relu(layer2_in)"
   ]
  },
  {
   "cell_type": "markdown",
   "id": "987b5aef",
   "metadata": {},
   "source": [
    "#### *Setup output layer*"
   ]
  },
  {
   "cell_type": "code",
   "execution_count": null,
   "id": "98b4d959",
   "metadata": {},
   "outputs": [],
   "source": [
    "# setup weights and biases\n",
    "initial_w3 = tf.random.truncated_normal(shape=[n_hidden2, NUM_CLASSES], stddev=0.1)\n",
    "w3 = tf.Variable(initial_value=initial_w3, name='w3')\n",
    "initial_b3 = tf.constant(value=0.0, shape=[NUM_CLASSES])\n",
    "b3 = tf.Variable(initial_value=initial_b3, name='b3')\n",
    "\n",
    "# setup inputs and outputs\n",
    "layer3_in = tf.matmul(layer2_out, w3) + b3\n",
    "final_output = tf.nn.softmax(layer3_in) # softmax is used as activation function because it's the output layer"
   ]
  },
  {
   "cell_type": "markdown",
   "id": "177c32af",
   "metadata": {},
   "source": [
    "### *Tensorboard Setup*"
   ]
  },
  {
   "cell_type": "code",
   "execution_count": null,
   "id": "ee113dae",
   "metadata": {},
   "outputs": [],
   "source": [
    "folder_name = f'Model_1_at_{strftime(\"%H:%M\")}'\n",
    "directory = os.path.join(LOGGING_PATH, folder_name)\n",
    "\n",
    "try:\n",
    "    os.makedirs(directory)\n",
    "except OSError as exception:\n",
    "    print(exception.strerror)\n",
    "else:\n",
    "    print('Directory created.')"
   ]
  },
  {
   "cell_type": "markdown",
   "id": "5461cac2",
   "metadata": {},
   "source": [
    "### *Loss function*"
   ]
  },
  {
   "cell_type": "code",
   "execution_count": null,
   "id": "c45649c0",
   "metadata": {},
   "outputs": [],
   "source": [
    "# https://www.tensorflow.org/api_docs/python/tf/nn/softmax_cross_entropy_with_logits\n",
    "\n",
    "# reduce_mean is used to get the average of the losses as the training\n",
    "# will happen in batches instead of the whole dataset.\n",
    "loss = tf.reduce_mean(tf.nn.softmax_cross_entropy_with_logits(labels=Y, logits=final_output))"
   ]
  },
  {
   "cell_type": "markdown",
   "id": "2594e033",
   "metadata": {},
   "source": [
    "### Optimizer"
   ]
  },
  {
   "cell_type": "code",
   "execution_count": null,
   "id": "2e5847bc",
   "metadata": {},
   "outputs": [],
   "source": [
    "# https://www.tensorflow.org/api_docs/python/tf/compat/v1/train/AdamOptimizer\n",
    "optimizer = tf.compat.v1.train.AdamOptimizer(learning_rate=learning_rate)\n",
    "\n",
    "# https://www.tensorflow.org/api_docs/python/tf/compat/v1/train/AdamOptimizer#minimize\n",
    "train_step = optimizer.minimize(loss)"
   ]
  },
  {
   "cell_type": "markdown",
   "id": "6dae6960",
   "metadata": {},
   "source": [
    "### Accuracy"
   ]
  },
  {
   "cell_type": "code",
   "execution_count": null,
   "id": "7dcb5d45",
   "metadata": {},
   "outputs": [],
   "source": [
    "# argmax of the final_output row has the highest probability from indexes 0-9 (softmax output)\n",
    "# argmax of the Y row has 1 for the true label and 0 for the rest from indexes 0-9 (one-hot-encoding)\n",
    "correct_prediction = tf.equal(tf.argmax(final_output, axis=1), tf.argmax(Y, axis=1))\n",
    "\n",
    "# calculate accuracy\n",
    "acc = tf.reduce_mean(tf.cast(correct_prediction, tf.float32))"
   ]
  },
  {
   "cell_type": "code",
   "execution_count": null,
   "id": "3a1d694d",
   "metadata": {},
   "outputs": [],
   "source": [
    "# (tensorboard)\n",
    "# add summary for the accuracy\n",
    "tf.compat.v1.summary.scalar('accuracy', acc)\n",
    "# add summary for the loss\n",
    "tf.compat.v1.summary.scalar('loss', loss)"
   ]
  },
  {
   "cell_type": "markdown",
   "id": "199dca60",
   "metadata": {},
   "source": [
    "---"
   ]
  },
  {
   "cell_type": "markdown",
   "id": "9b6c3491",
   "metadata": {},
   "source": [
    "## *Start and run session*"
   ]
  },
  {
   "cell_type": "code",
   "execution_count": null,
   "id": "aa82fe01",
   "metadata": {
    "scrolled": true
   },
   "outputs": [],
   "source": [
    "# \"A Session object encapsulates the environment in which \n",
    "# Operation objects are executed, and Tensor objects are evaluated.\"\n",
    "session = tf.compat.v1.Session()"
   ]
  },
  {
   "cell_type": "markdown",
   "id": "c7c1c14a",
   "metadata": {},
   "source": [
    "### *[Tensorboard] Setup FileWriter and merge summaries*"
   ]
  },
  {
   "cell_type": "code",
   "execution_count": null,
   "id": "134c5581",
   "metadata": {},
   "outputs": [],
   "source": [
    "# setup FileWriter and merge summaries (tensorboard)\n",
    "merged_summary = tf.compat.v1.summary.merge_all()\n",
    "\n",
    "# define train writer\n",
    "train_writer = tf.compat.v1.summary.FileWriter(directory + '/train')\n",
    "train_writer.add_graph(session.graph)\n",
    "\n",
    "# define validation writer\n",
    "validation_writer = tf.compat.v1.summary.FileWriter(directory + '/validation')"
   ]
  },
  {
   "cell_type": "code",
   "execution_count": null,
   "id": "a04f3776",
   "metadata": {},
   "outputs": [],
   "source": [
    "# initialize the variables\n",
    "init = tf.compat.v1.global_variables_initializer()\n",
    "session.run(init)"
   ]
  },
  {
   "cell_type": "markdown",
   "id": "0c0c30a9",
   "metadata": {},
   "source": [
    "### *Batching the data*"
   ]
  },
  {
   "cell_type": "code",
   "execution_count": null,
   "id": "c1e58a24",
   "metadata": {},
   "outputs": [],
   "source": [
    "batch_size = 1000\n",
    "num_examples = y_train.shape[0]\n",
    "num_iterations = int(num_examples/batch_size)\n",
    "\n",
    "index_in_epoch = 0"
   ]
  },
  {
   "cell_type": "code",
   "execution_count": null,
   "id": "f46e9a95",
   "metadata": {},
   "outputs": [],
   "source": [
    "def next_batch(batch_size, data, labels):\n",
    "    global num_examples\n",
    "    global index_in_epoch\n",
    "    \n",
    "    start = index_in_epoch\n",
    "    index_in_epoch += batch_size\n",
    "    \n",
    "    if index_in_epoch > num_examples:\n",
    "        # reset\n",
    "        start=0\n",
    "        index_in_epoch = batch_size\n",
    "    \n",
    "    end = index_in_epoch\n",
    "    \n",
    "    return data[start:end], labels[start:end]"
   ]
  },
  {
   "cell_type": "markdown",
   "id": "5a6c24b6",
   "metadata": {},
   "source": [
    "### Write the training loop"
   ]
  },
  {
   "cell_type": "code",
   "execution_count": null,
   "id": "71d2eacd",
   "metadata": {},
   "outputs": [],
   "source": [
    "print('Training started.')\n",
    "for epoch in range(num_epochs):\n",
    "    \n",
    "    # TRAINING DATASET\n",
    "    for i in range(num_iterations):\n",
    "        batch_x, batch_y = next_batch(batch_size=batch_size, data=x_train, labels=y_train)\n",
    "        \n",
    "        # create feed dictionary\n",
    "        feed_dictionary = {X: batch_x, Y: batch_y}        \n",
    "        # do the calculations for training\n",
    "        session.run(train_step, feed_dict=feed_dictionary)\n",
    "    \n",
    "    # fetch the accuracy and summary from session\n",
    "    train_summary, batch_accuracy = session.run(fetches=[merged_summary, acc], feed_dict=feed_dictionary)\n",
    "    train_writer.add_summary(train_summary, epoch)\n",
    "        \n",
    "    print(f'Epoch {epoch} \\t| Training accuracy = {batch_accuracy}')\n",
    "    \n",
    "    # VALIDATION DATASET\n",
    "    val_summary = session.run(fetches=merged_summary, feed_dict={X: x_val, Y: y_val})\n",
    "    validation_writer.add_summary(val_summary, epoch)\n",
    "    \n",
    "print('Training complete.')"
   ]
  },
  {
   "cell_type": "markdown",
   "id": "cc79cb4e",
   "metadata": {},
   "source": [
    "---"
   ]
  },
  {
   "cell_type": "markdown",
   "id": "638e1560",
   "metadata": {},
   "source": [
    "## *Reset for next run*"
   ]
  },
  {
   "cell_type": "code",
   "execution_count": null,
   "id": "c5a2a991",
   "metadata": {},
   "outputs": [],
   "source": [
    "train_writer.close()\n",
    "validation_writer.close()\n",
    "session.close()\n",
    "tf.compat.v1.reset_default_graph()"
   ]
  },
  {
   "cell_type": "markdown",
   "id": "2d3b7580",
   "metadata": {},
   "source": [
    "---"
   ]
  }
 ],
 "metadata": {
  "kernelspec": {
   "display_name": "Python 3 (ipykernel)",
   "language": "python",
   "name": "python3"
  },
  "language_info": {
   "codemirror_mode": {
    "name": "ipython",
    "version": 3
   },
   "file_extension": ".py",
   "mimetype": "text/x-python",
   "name": "python",
   "nbconvert_exporter": "python",
   "pygments_lexer": "ipython3",
   "version": "3.9.7"
  }
 },
 "nbformat": 4,
 "nbformat_minor": 5
}
