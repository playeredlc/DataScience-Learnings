{
 "cells": [
  {
   "cell_type": "code",
   "execution_count": 1,
   "id": "ef18c98e",
   "metadata": {
    "scrolled": true
   },
   "outputs": [],
   "source": [
    "# set seed for reproducibility purposes.\n",
    "from numpy.random import seed\n",
    "seed(888)\n",
    "from tensorflow.random import set_seed\n",
    "set_seed(404)"
   ]
  },
  {
   "cell_type": "code",
   "execution_count": 2,
   "id": "febefaa7",
   "metadata": {},
   "outputs": [],
   "source": [
    "import tensorflow as tf\n",
    "import numpy as np\n",
    "import os"
   ]
  },
  {
   "cell_type": "code",
   "execution_count": 9,
   "id": "46ffa571",
   "metadata": {},
   "outputs": [],
   "source": [
    "# CONSTANTS\n",
    "X_TRAIN_PATH = 'MNIST_Dataset/digit_xtrain.csv'\n",
    "X_TEST_PATH = 'MNIST_Dataset/digit_xtest.csv'\n",
    "Y_TRAIN_PATH = 'MNIST_Dataset/digit_ytrain.csv'\n",
    "Y_TEST_PATH = 'MNIST_Dataset/digit_ytest.csv'\n",
    "\n",
    "IMAGE_WIDTH = 28\n",
    "IMAGE_HEIGHT = 28\n",
    "NUM_CHANNELS = 1\n",
    "TOTAL_INPUTS = IMAGE_WIDTH * IMAGE_HEIGHT * NUM_CHANNELS\n",
    "NUM_CLASSES = 10 # digits from 0-9\n",
    "VALIDATION_SIZE = 10000"
   ]
  },
  {
   "cell_type": "markdown",
   "id": "ff0f1c45",
   "metadata": {},
   "source": [
    "## *Load Data*"
   ]
  },
  {
   "cell_type": "code",
   "execution_count": 4,
   "id": "b13ca2a4",
   "metadata": {},
   "outputs": [
    {
     "name": "stdout",
     "output_type": "stream",
     "text": [
      "Y Train shape:  (60000,)\n",
      "Y Test shape:  (10000,)\n",
      "CPU times: user 214 ms, sys: 19.7 ms, total: 234 ms\n",
      "Wall time: 232 ms\n"
     ]
    }
   ],
   "source": [
    "%%time\n",
    "\n",
    "y_train_data = np.loadtxt(Y_TRAIN_PATH, delimiter=',', dtype=int)\n",
    "print('Y Train shape: ', y_train_data.shape)\n",
    "\n",
    "y_test = np.loadtxt(Y_TEST_PATH, delimiter=',', dtype=int)\n",
    "print('Y Test shape: ', y_test.shape)"
   ]
  },
  {
   "cell_type": "code",
   "execution_count": 5,
   "id": "7e83273e",
   "metadata": {
    "scrolled": false
   },
   "outputs": [
    {
     "name": "stdout",
     "output_type": "stream",
     "text": [
      "X Train shape:  (60000, 784)\n",
      "X Test shape:  (10000, 784)\n",
      "CPU times: user 27.8 s, sys: 1.15 s, total: 28.9 s\n",
      "Wall time: 28.9 s\n"
     ]
    }
   ],
   "source": [
    "%%time\n",
    "\n",
    "x_train_data = np.loadtxt(X_TRAIN_PATH, delimiter=',', dtype=int)\n",
    "print('X Train shape: ', x_train_data.shape)\n",
    "\n",
    "x_test = np.loadtxt(X_TEST_PATH, delimiter=',', dtype=int)\n",
    "print('X Test shape: ', x_test.shape)"
   ]
  },
  {
   "cell_type": "markdown",
   "id": "a1bef60f",
   "metadata": {},
   "source": [
    "---"
   ]
  },
  {
   "cell_type": "markdown",
   "id": "40284bf0",
   "metadata": {},
   "source": [
    "## *Data preprocessing*"
   ]
  },
  {
   "cell_type": "code",
   "execution_count": 6,
   "id": "a1be1d0b",
   "metadata": {},
   "outputs": [
    {
     "name": "stdout",
     "output_type": "stream",
     "text": [
      "Y Train shape:  (60000, 10)\n",
      "Y Test shape:  (10000, 10)\n"
     ]
    }
   ],
   "source": [
    "# re-scale training data from 0-255 to 0-1\n",
    "x_train_data, x_test = x_train_data/255.0, x_test/255.0\n",
    "\n",
    "# convert target values (labels) to one-hot-encoding\n",
    "y_train_data = np.eye(NUM_CLASSES)[y_train_data]\n",
    "print('Y Train shape: ', y_train_data.shape)\n",
    "\n",
    "y_test = np.eye(NUM_CLASSES)[y_test]\n",
    "print('Y Test shape: ', y_test.shape)"
   ]
  },
  {
   "cell_type": "markdown",
   "id": "615e4af4",
   "metadata": {},
   "source": [
    "### *Create validation dataset from training data*"
   ]
  },
  {
   "cell_type": "code",
   "execution_count": 7,
   "id": "b30058ae",
   "metadata": {},
   "outputs": [
    {
     "name": "stdout",
     "output_type": "stream",
     "text": [
      "Validation shape:  (10000, 784) (10000, 10)\n",
      "New training shape:  (50000, 784) (50000, 10)\n"
     ]
    }
   ],
   "source": [
    "x_val = x_train_data[:VALIDATION_SIZE]\n",
    "y_val = y_train_data[:VALIDATION_SIZE]\n",
    "\n",
    "x_train = x_train_data[VALIDATION_SIZE:]\n",
    "y_train = y_train_data[VALIDATION_SIZE:]\n",
    "\n",
    "print('Validation shape: ', x_val.shape, y_val.shape)\n",
    "print('New training shape: ', x_train.shape, y_train.shape)\n"
   ]
  },
  {
   "cell_type": "markdown",
   "id": "e8d0a802",
   "metadata": {},
   "source": [
    "---"
   ]
  },
  {
   "cell_type": "markdown",
   "id": "3a503300",
   "metadata": {},
   "source": [
    "## *Setup tensorflow graph*"
   ]
  },
  {
   "cell_type": "code",
   "execution_count": 11,
   "id": "1f21eb0b",
   "metadata": {},
   "outputs": [],
   "source": [
    "# https://www.tensorflow.org/api_docs/python/tf/compat/v1/placeholder\n",
    "\n",
    "# from docs: \"... This API is strongly discouraged for use with eager execution and tf.function.\"\n",
    "tf.compat.v1.disable_eager_execution()\n",
    "\n",
    "# features placeholder\n",
    "X = tf.compat.v1.placeholder(tf.float32, shape=[None, TOTAL_INPUTS])\n",
    "\n",
    "#labels placeholder\n",
    "Y = tf.compat.v1.placeholder(tf.float32, shape=[None, NUM_CLASSES])"
   ]
  },
  {
   "cell_type": "markdown",
   "id": "5b0dc358",
   "metadata": {},
   "source": [
    "### *Neural network definition*"
   ]
  },
  {
   "cell_type": "code",
   "execution_count": 13,
   "id": "54138611",
   "metadata": {},
   "outputs": [],
   "source": [
    "# hyperparameters\n",
    "num_epochs = 5\n",
    "learning_rate = 1e-4\n",
    "\n",
    "n_hidden1 = 512 # layer 1\n",
    "n_hidden2 = 64 # layer 2"
   ]
  },
  {
   "cell_type": "markdown",
   "id": "a1d28f06",
   "metadata": {},
   "source": [
    "#### *Setup 1st layer*"
   ]
  },
  {
   "cell_type": "code",
   "execution_count": 14,
   "id": "22ef865a",
   "metadata": {},
   "outputs": [],
   "source": [
    "# set initial random weights for 1st layer\n",
    "initial_w1 = tf.random.truncated_normal(shape=[TOTAL_INPUTS, n_hidden1], stddev=0.1)\n",
    "# create tf variable for weights\n",
    "w1 = tf.Variable(initial_value=initial_w1)"
   ]
  },
  {
   "cell_type": "code",
   "execution_count": 15,
   "id": "faf63427",
   "metadata": {},
   "outputs": [],
   "source": [
    "# set initial bias for 1st layer\n",
    "initial_b1 = tf.constant(value=0.0, shape=[n_hidden1])\n",
    "b1 = tf.Variable(initial_value=initial_b1)"
   ]
  },
  {
   "cell_type": "code",
   "execution_count": 17,
   "id": "fee18b5d",
   "metadata": {},
   "outputs": [],
   "source": [
    "# https://www.tensorflow.org/api_docs/python/tf/linalg/matmul\n",
    "\n",
    "# set 1st layer inputs (X which is the raw inputs multiplied by the weights (matrix mult) + bias)\n",
    "# this result is what feeds the activation function\n",
    "layer1_in = tf.matmul(X, w1) + b1\n",
    "\n",
    "# set 1st layer outputs using rectified linear (activation function)\n",
    "layer1_out = tf.nn.relu(layer1_in)"
   ]
  },
  {
   "cell_type": "markdown",
   "id": "0aa81031",
   "metadata": {},
   "source": [
    "##### *Setup 2nd layer*"
   ]
  },
  {
   "cell_type": "code",
   "execution_count": 18,
   "id": "1548f779",
   "metadata": {},
   "outputs": [],
   "source": [
    "# setup weights and biases\n",
    "initial_w2 = tf.random.truncated_normal(shape=[n_hidden1, n_hidden2], stddev=0.1)\n",
    "w2 = tf.Variable(initial_value=initial_w2)\n",
    "initial_b2 = tf.constant(value=0.0, shape=[n_hidden2])\n",
    "b2 = tf.Variable(initial_value=initial_b2)\n",
    "\n",
    "# setup inputs and outputs\n",
    "layer2_in = tf.matmul(layer1_out, w2) + b2\n",
    "layer2_out = tf.nn.relu(layer2_in)"
   ]
  },
  {
   "cell_type": "markdown",
   "id": "4fc24661",
   "metadata": {},
   "source": [
    "#### *Setup output layer*"
   ]
  },
  {
   "cell_type": "code",
   "execution_count": 19,
   "id": "fd5a5255",
   "metadata": {},
   "outputs": [],
   "source": [
    "# setup weights and biases\n",
    "initial_w3 = tf.random.truncated_normal(shape=[n_hidden2, NUM_CLASSES], stddev=0.1)\n",
    "w3 = tf.Variable(initial_value=initial_w3)\n",
    "initial_b3 = tf.constant(value=0.0, shape=[NUM_CLASSES])\n",
    "b3 = tf.Variable(initial_value=initial_b3)\n",
    "\n",
    "# setup inputs and outputs\n",
    "layer3_in = tf.matmul(layer2_out, w3) + b3\n",
    "final_output = tf.nn.softmax(layer3_in) # softmax is used as activation function because it's the output layer"
   ]
  },
  {
   "cell_type": "markdown",
   "id": "760306f0",
   "metadata": {},
   "source": [
    "### *Loss function*"
   ]
  },
  {
   "cell_type": "code",
   "execution_count": 21,
   "id": "8d4dca56",
   "metadata": {},
   "outputs": [],
   "source": [
    "# https://www.tensorflow.org/api_docs/python/tf/nn/softmax_cross_entropy_with_logits\n",
    "\n",
    "# reduce_mean is used to get the average of the losses as the training\n",
    "# will happen in batches instead of the whole dataset.\n",
    "loss = tf.reduce_mean(tf.nn.softmax_cross_entropy_with_logits(labels=Y, logits=final_output))"
   ]
  },
  {
   "cell_type": "markdown",
   "id": "e5fa9853",
   "metadata": {},
   "source": [
    "### Optimizer"
   ]
  },
  {
   "cell_type": "code",
   "execution_count": 22,
   "id": "9df7744a",
   "metadata": {},
   "outputs": [],
   "source": [
    "# https://www.tensorflow.org/api_docs/python/tf/compat/v1/train/AdamOptimizer\n",
    "optimizer = tf.compat.v1.train.AdamOptimizer(learning_rate=learning_rate)\n",
    "\n",
    "# https://www.tensorflow.org/api_docs/python/tf/compat/v1/train/AdamOptimizer#minimize\n",
    "train_step = optimizer.minimize(loss)"
   ]
  },
  {
   "cell_type": "markdown",
   "id": "5d1bdec9",
   "metadata": {},
   "source": [
    "### Accuracy"
   ]
  },
  {
   "cell_type": "code",
   "execution_count": 23,
   "id": "c7753197",
   "metadata": {},
   "outputs": [],
   "source": [
    "# argmax of the final_output row has the highest probability from indexes 0-9 (softmax output)\n",
    "# argmax of the Y row has 1 for the true label and 0 for the rest from indexes 0-9 (one-hot-encoding)\n",
    "correct_prediction = tf.equal(tf.argmax(final_output, axis=1), tf.argmax(Y, axis=1))\n",
    "\n",
    "# calculate accuracy\n",
    "acc = tf.reduce_mean(tf.cast(correct_prediction, tf.float32))"
   ]
  },
  {
   "cell_type": "markdown",
   "id": "8f0d1b8f",
   "metadata": {},
   "source": [
    "---"
   ]
  }
 ],
 "metadata": {
  "kernelspec": {
   "display_name": "Python 3 (ipykernel)",
   "language": "python",
   "name": "python3"
  },
  "language_info": {
   "codemirror_mode": {
    "name": "ipython",
    "version": 3
   },
   "file_extension": ".py",
   "mimetype": "text/x-python",
   "name": "python",
   "nbconvert_exporter": "python",
   "pygments_lexer": "ipython3",
   "version": "3.9.7"
  }
 },
 "nbformat": 4,
 "nbformat_minor": 5
}
