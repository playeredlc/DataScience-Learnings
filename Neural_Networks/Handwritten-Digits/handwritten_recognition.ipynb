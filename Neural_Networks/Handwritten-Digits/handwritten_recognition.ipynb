{
 "cells": [
  {
   "cell_type": "code",
   "execution_count": 1,
   "id": "ef18c98e",
   "metadata": {
    "scrolled": true
   },
   "outputs": [],
   "source": [
    "# set seed for reproducibility purposes.\n",
    "from numpy.random import seed\n",
    "seed(888)\n",
    "from tensorflow.random import set_seed\n",
    "set_seed(404)"
   ]
  },
  {
   "cell_type": "code",
   "execution_count": 2,
   "id": "febefaa7",
   "metadata": {},
   "outputs": [],
   "source": [
    "import tensorflow as tf\n",
    "import numpy as np\n",
    "import os"
   ]
  },
  {
   "cell_type": "code",
   "execution_count": 3,
   "id": "46ffa571",
   "metadata": {},
   "outputs": [],
   "source": [
    "# CONSTANTS\n",
    "X_TRAIN_PATH = 'MNIST_Dataset/digit_xtrain.csv'\n",
    "X_TEST_PATH = 'MNIST_Dataset/digit_xtest.csv'\n",
    "Y_TRAIN_PATH = 'MNIST_Dataset/digit_ytrain.csv'\n",
    "Y_TEST_PATH = 'MNIST_Dataset/digit_ytest.csv'\n",
    "\n",
    "NUM_CLASSES = 10 # digits from 0-9\n",
    "VALIDATION_SIZE = 10000"
   ]
  },
  {
   "cell_type": "markdown",
   "id": "ff0f1c45",
   "metadata": {},
   "source": [
    "## *Load Data*"
   ]
  },
  {
   "cell_type": "code",
   "execution_count": 4,
   "id": "b13ca2a4",
   "metadata": {},
   "outputs": [
    {
     "name": "stdout",
     "output_type": "stream",
     "text": [
      "Y Train shape:  (60000,)\n",
      "Y Test shape:  (10000,)\n",
      "CPU times: user 214 ms, sys: 19.7 ms, total: 234 ms\n",
      "Wall time: 232 ms\n"
     ]
    }
   ],
   "source": [
    "%%time\n",
    "\n",
    "y_train_data = np.loadtxt(Y_TRAIN_PATH, delimiter=',', dtype=int)\n",
    "print('Y Train shape: ', y_train_data.shape)\n",
    "\n",
    "y_test = np.loadtxt(Y_TEST_PATH, delimiter=',', dtype=int)\n",
    "print('Y Test shape: ', y_test.shape)"
   ]
  },
  {
   "cell_type": "code",
   "execution_count": 5,
   "id": "7e83273e",
   "metadata": {
    "scrolled": false
   },
   "outputs": [
    {
     "name": "stdout",
     "output_type": "stream",
     "text": [
      "X Train shape:  (60000, 784)\n",
      "X Test shape:  (10000, 784)\n",
      "CPU times: user 27.8 s, sys: 1.15 s, total: 28.9 s\n",
      "Wall time: 28.9 s\n"
     ]
    }
   ],
   "source": [
    "%%time\n",
    "\n",
    "x_train_data = np.loadtxt(X_TRAIN_PATH, delimiter=',', dtype=int)\n",
    "print('X Train shape: ', x_train_data.shape)\n",
    "\n",
    "x_test = np.loadtxt(X_TEST_PATH, delimiter=',', dtype=int)\n",
    "print('X Test shape: ', x_test.shape)"
   ]
  },
  {
   "cell_type": "markdown",
   "id": "a1bef60f",
   "metadata": {},
   "source": [
    "---"
   ]
  },
  {
   "cell_type": "markdown",
   "id": "84c648da",
   "metadata": {},
   "source": [
    "## *Data preprocessing*"
   ]
  },
  {
   "cell_type": "code",
   "execution_count": 6,
   "id": "5501a6c1",
   "metadata": {},
   "outputs": [
    {
     "name": "stdout",
     "output_type": "stream",
     "text": [
      "Y Train shape:  (60000, 10)\n",
      "Y Test shape:  (10000, 10)\n"
     ]
    }
   ],
   "source": [
    "# re-scale training data from 0-255 to 0-1\n",
    "x_train_data, x_test = x_train_data/255.0, x_test/255.0\n",
    "\n",
    "# convert target values (labels) to one-hot-encoding\n",
    "y_train_data = np.eye(NUM_CLASSES)[y_train_data]\n",
    "print('Y Train shape: ', y_train_data.shape)\n",
    "\n",
    "y_test = np.eye(NUM_CLASSES)[y_test]\n",
    "print('Y Test shape: ', y_test.shape)"
   ]
  },
  {
   "cell_type": "markdown",
   "id": "ec14cf1f",
   "metadata": {},
   "source": [
    "### *Create validation dataset from training data*"
   ]
  },
  {
   "cell_type": "code",
   "execution_count": 7,
   "id": "de51c5d5",
   "metadata": {},
   "outputs": [
    {
     "name": "stdout",
     "output_type": "stream",
     "text": [
      "Validation shape:  (10000, 784) (10000, 10)\n",
      "New training shape:  (50000, 784) (50000, 10)\n"
     ]
    }
   ],
   "source": [
    "x_val = x_train_data[:VALIDATION_SIZE]\n",
    "y_val = y_train_data[:VALIDATION_SIZE]\n",
    "\n",
    "x_train = x_train_data[VALIDATION_SIZE:]\n",
    "y_train = y_train_data[VALIDATION_SIZE:]\n",
    "\n",
    "print('Validation shape: ', x_val.shape, y_val.shape)\n",
    "print('New training shape: ', x_train.shape, y_train.shape)\n"
   ]
  },
  {
   "cell_type": "markdown",
   "id": "a6d2c66b",
   "metadata": {},
   "source": [
    "---"
   ]
  }
 ],
 "metadata": {
  "kernelspec": {
   "display_name": "Python 3 (ipykernel)",
   "language": "python",
   "name": "python3"
  },
  "language_info": {
   "codemirror_mode": {
    "name": "ipython",
    "version": 3
   },
   "file_extension": ".py",
   "mimetype": "text/x-python",
   "name": "python",
   "nbconvert_exporter": "python",
   "pygments_lexer": "ipython3",
   "version": "3.9.7"
  }
 },
 "nbformat": 4,
 "nbformat_minor": 5
}
