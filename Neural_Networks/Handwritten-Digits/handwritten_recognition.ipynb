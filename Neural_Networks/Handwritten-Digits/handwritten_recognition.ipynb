{
 "cells": [
  {
   "cell_type": "code",
   "execution_count": 1,
   "id": "ef18c98e",
   "metadata": {
    "scrolled": true
   },
   "outputs": [],
   "source": [
    "# set seed for reproducibility purposes.\n",
    "from numpy.random import seed\n",
    "seed(888)\n",
    "from tensorflow.random import set_seed\n",
    "set_seed(404)"
   ]
  },
  {
   "cell_type": "code",
   "execution_count": 2,
   "id": "febefaa7",
   "metadata": {},
   "outputs": [],
   "source": [
    "import tensorflow as tf\n",
    "import numpy as np\n",
    "import os"
   ]
  },
  {
   "cell_type": "code",
   "execution_count": 3,
   "id": "46ffa571",
   "metadata": {},
   "outputs": [],
   "source": [
    "# CONSTANTS\n",
    "X_TRAIN_PATH = 'MNIST_Dataset/digit_xtrain.csv'\n",
    "X_TEST_PATH = 'MNIST_Dataset/digit_xtest.csv'\n",
    "Y_TRAIN_PATH = 'MNIST_Dataset/digit_ytrain.csv'\n",
    "Y_TEST_PATH = 'MNIST_Dataset/digit_ytest.csv'"
   ]
  },
  {
   "cell_type": "markdown",
   "id": "ff0f1c45",
   "metadata": {},
   "source": [
    "## *Load Data*"
   ]
  },
  {
   "cell_type": "code",
   "execution_count": 4,
   "id": "b13ca2a4",
   "metadata": {},
   "outputs": [
    {
     "name": "stdout",
     "output_type": "stream",
     "text": [
      "Y Train shape:  (60000,)\n",
      "Y Test shape:  (10000,)\n",
      "CPU times: user 258 ms, sys: 349 µs, total: 258 ms\n",
      "Wall time: 259 ms\n"
     ]
    }
   ],
   "source": [
    "%%time\n",
    "\n",
    "y_train_data = np.loadtxt(Y_TRAIN_PATH, delimiter=',', dtype=int)\n",
    "print('Y Train shape: ', y_train_data.shape)\n",
    "\n",
    "y_test = np.loadtxt(Y_TEST_PATH, delimiter=',', dtype=int)\n",
    "print('Y Test shape: ', y_test.shape)"
   ]
  },
  {
   "cell_type": "code",
   "execution_count": 5,
   "id": "7e83273e",
   "metadata": {
    "scrolled": true
   },
   "outputs": [
    {
     "name": "stdout",
     "output_type": "stream",
     "text": [
      "X Train shape:  (60000, 784)\n",
      "X Test shape:  (10000, 784)\n",
      "CPU times: user 28.6 s, sys: 1.55 s, total: 30.1 s\n",
      "Wall time: 30.2 s\n"
     ]
    }
   ],
   "source": [
    "%%time\n",
    "\n",
    "x_train_data = np.loadtxt(X_TRAIN_PATH, delimiter=',', dtype=int)\n",
    "print('X Train shape: ', x_train_data.shape)\n",
    "\n",
    "x_test = np.loadtxt(X_TEST_PATH, delimiter=',', dtype=int)\n",
    "print('X Test shape: ', x_test.shape)"
   ]
  },
  {
   "cell_type": "markdown",
   "id": "a1bef60f",
   "metadata": {},
   "source": [
    "---"
   ]
  }
 ],
 "metadata": {
  "kernelspec": {
   "display_name": "Python 3 (ipykernel)",
   "language": "python",
   "name": "python3"
  },
  "language_info": {
   "codemirror_mode": {
    "name": "ipython",
    "version": 3
   },
   "file_extension": ".py",
   "mimetype": "text/x-python",
   "name": "python",
   "nbconvert_exporter": "python",
   "pygments_lexer": "ipython3",
   "version": "3.9.7"
  }
 },
 "nbformat": 4,
 "nbformat_minor": 5
}
