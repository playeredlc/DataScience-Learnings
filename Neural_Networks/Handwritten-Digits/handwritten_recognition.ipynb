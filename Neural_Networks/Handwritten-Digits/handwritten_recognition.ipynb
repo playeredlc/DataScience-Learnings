{
 "cells": [
  {
   "cell_type": "code",
   "execution_count": 1,
   "id": "ef18c98e",
   "metadata": {
    "scrolled": true
   },
   "outputs": [],
   "source": [
    "# set seed for reproducibility purposes.\n",
    "from numpy.random import seed\n",
    "seed(888)\n",
    "from tensorflow.random import set_seed\n",
    "set_seed(404)"
   ]
  },
  {
   "cell_type": "code",
   "execution_count": 2,
   "id": "febefaa7",
   "metadata": {},
   "outputs": [],
   "source": [
    "import tensorflow as tf\n",
    "import numpy as np\n",
    "import os\n",
    "from time import strftime\n",
    "\n",
    "from PIL import Image"
   ]
  },
  {
   "cell_type": "code",
   "execution_count": 3,
   "id": "46ffa571",
   "metadata": {},
   "outputs": [],
   "source": [
    "# CONSTANTS\n",
    "X_TRAIN_PATH = 'MNIST_Dataset/digit_xtrain.csv'\n",
    "X_TEST_PATH = 'MNIST_Dataset/digit_xtest.csv'\n",
    "Y_TRAIN_PATH = 'MNIST_Dataset/digit_ytrain.csv'\n",
    "Y_TEST_PATH = 'MNIST_Dataset/digit_ytest.csv'\n",
    "\n",
    "SINGLE_IMG_PATH = 'MNIST_Dataset/test_img.png'\n",
    "\n",
    "EXPORT_PATH = 'SavedModel_digit-recog'\n",
    "\n",
    "IMAGE_WIDTH = 28\n",
    "IMAGE_HEIGHT = 28\n",
    "NUM_CHANNELS = 1\n",
    "TOTAL_INPUTS = IMAGE_WIDTH * IMAGE_HEIGHT * NUM_CHANNELS\n",
    "NUM_CLASSES = 10 # digits from 0-9\n",
    "VALIDATION_SIZE = 10000\n",
    "\n",
    "LOGGING_PATH = 'tensorboard_mnist_logs/'"
   ]
  },
  {
   "cell_type": "markdown",
   "id": "ff0f1c45",
   "metadata": {},
   "source": [
    "## *Load Data*"
   ]
  },
  {
   "cell_type": "code",
   "execution_count": 4,
   "id": "b13ca2a4",
   "metadata": {},
   "outputs": [
    {
     "name": "stdout",
     "output_type": "stream",
     "text": [
      "Y Train shape:  (60000,)\n",
      "Y Test shape:  (10000,)\n",
      "CPU times: user 216 ms, sys: 667 µs, total: 216 ms\n",
      "Wall time: 220 ms\n"
     ]
    }
   ],
   "source": [
    "%%time\n",
    "\n",
    "y_train_data = np.loadtxt(Y_TRAIN_PATH, delimiter=',', dtype=int)\n",
    "print('Y Train shape: ', y_train_data.shape)\n",
    "\n",
    "y_test = np.loadtxt(Y_TEST_PATH, delimiter=',', dtype=int)\n",
    "print('Y Test shape: ', y_test.shape)"
   ]
  },
  {
   "cell_type": "code",
   "execution_count": 5,
   "id": "7e83273e",
   "metadata": {
    "scrolled": false
   },
   "outputs": [
    {
     "name": "stdout",
     "output_type": "stream",
     "text": [
      "X Train shape:  (60000, 784)\n",
      "X Test shape:  (10000, 784)\n",
      "CPU times: user 29.2 s, sys: 1.57 s, total: 30.8 s\n",
      "Wall time: 31 s\n"
     ]
    }
   ],
   "source": [
    "%%time\n",
    "\n",
    "x_train_data = np.loadtxt(X_TRAIN_PATH, delimiter=',', dtype=int)\n",
    "print('X Train shape: ', x_train_data.shape)\n",
    "\n",
    "x_test = np.loadtxt(X_TEST_PATH, delimiter=',', dtype=int)\n",
    "print('X Test shape: ', x_test.shape)"
   ]
  },
  {
   "cell_type": "markdown",
   "id": "a1bef60f",
   "metadata": {},
   "source": [
    "---"
   ]
  },
  {
   "cell_type": "markdown",
   "id": "b52f9809",
   "metadata": {},
   "source": [
    "## *Data preprocessing*"
   ]
  },
  {
   "cell_type": "code",
   "execution_count": 6,
   "id": "e37f5380",
   "metadata": {},
   "outputs": [
    {
     "name": "stdout",
     "output_type": "stream",
     "text": [
      "Y Train shape:  (60000, 10)\n",
      "Y Test shape:  (10000, 10)\n"
     ]
    }
   ],
   "source": [
    "# re-scale training data from 0-255 to 0-1\n",
    "x_train_data, x_test = x_train_data/255.0, x_test/255.0\n",
    "\n",
    "# convert target values (labels) to one-hot-encoding\n",
    "y_train_data = np.eye(NUM_CLASSES)[y_train_data]\n",
    "print('Y Train shape: ', y_train_data.shape)\n",
    "\n",
    "y_test = np.eye(NUM_CLASSES)[y_test]\n",
    "print('Y Test shape: ', y_test.shape)"
   ]
  },
  {
   "cell_type": "markdown",
   "id": "c11757f2",
   "metadata": {},
   "source": [
    "### *Create validation dataset from training data*"
   ]
  },
  {
   "cell_type": "code",
   "execution_count": 7,
   "id": "26064195",
   "metadata": {},
   "outputs": [
    {
     "name": "stdout",
     "output_type": "stream",
     "text": [
      "Validation shape:  (10000, 784) (10000, 10)\n",
      "New training shape:  (50000, 784) (50000, 10)\n"
     ]
    }
   ],
   "source": [
    "x_val = x_train_data[:VALIDATION_SIZE]\n",
    "y_val = y_train_data[:VALIDATION_SIZE]\n",
    "\n",
    "x_train = x_train_data[VALIDATION_SIZE:]\n",
    "y_train = y_train_data[VALIDATION_SIZE:]\n",
    "\n",
    "print('Validation shape: ', x_val.shape, y_val.shape)\n",
    "print('New training shape: ', x_train.shape, y_train.shape)\n"
   ]
  },
  {
   "cell_type": "markdown",
   "id": "16319de4",
   "metadata": {},
   "source": [
    "---"
   ]
  },
  {
   "cell_type": "markdown",
   "id": "7a68b130",
   "metadata": {},
   "source": [
    "## *Setup tensorflow graph*"
   ]
  },
  {
   "cell_type": "code",
   "execution_count": 8,
   "id": "fc331248",
   "metadata": {},
   "outputs": [],
   "source": [
    "# https://www.tensorflow.org/api_docs/python/tf/compat/v1/placeholder\n",
    "\n",
    "# from docs: \"... This API is strongly discouraged for use with eager execution and tf.function.\"\n",
    "tf.compat.v1.disable_eager_execution()\n",
    "\n",
    "# features placeholder\n",
    "X = tf.compat.v1.placeholder(tf.float32, shape=[None, TOTAL_INPUTS], name='X')\n",
    "\n",
    "#labels placeholder\n",
    "Y = tf.compat.v1.placeholder(tf.float32, shape=[None, NUM_CLASSES], name='Labels')"
   ]
  },
  {
   "cell_type": "markdown",
   "id": "23949ac8",
   "metadata": {},
   "source": [
    "### *Neural network definition*"
   ]
  },
  {
   "cell_type": "code",
   "execution_count": 9,
   "id": "0daf3d37",
   "metadata": {},
   "outputs": [],
   "source": [
    "# hyperparameters\n",
    "num_epochs = 50\n",
    "learning_rate = 1e-3\n",
    "\n",
    "n_hidden1 = 512 # layer 1\n",
    "n_hidden2 = 64 # layer 2\n",
    "\n",
    "model_name = f'{n_hidden1}-DO-{n_hidden2}_LR-{learning_rate}_E{num_epochs}'"
   ]
  },
  {
   "cell_type": "markdown",
   "id": "2d7b7c7f",
   "metadata": {},
   "source": [
    "### *Generic layer setup*"
   ]
  },
  {
   "cell_type": "code",
   "execution_count": 10,
   "id": "ad0d9ce6",
   "metadata": {},
   "outputs": [],
   "source": [
    "def layer_setup(input, weigth_dim, bias_dim, name):\n",
    "    with tf.name_scope(name):\n",
    "        # setup weights and biases\n",
    "        initial_w = tf.random.truncated_normal(shape=weigth_dim, stddev=0.1)\n",
    "        w = tf.Variable(initial_value=initial_w, name='W')\n",
    "        initial_b = tf.constant(value=0.0, shape=bias_dim)\n",
    "        b = tf.Variable(initial_value=initial_b, name='B')\n",
    "        \n",
    "        #setup inputs and outputs\n",
    "        layer_in  = tf.matmul(input, w) + b\n",
    "        \n",
    "        if name=='out':\n",
    "            # output layer use softmax\n",
    "            layer_out = tf.nn.softmax(layer_in)\n",
    "        else:\n",
    "            # inner layer use relu\n",
    "            layer_out = tf.nn.relu(layer_in)\n",
    "            \n",
    "        # add histogram summaries for w and b\n",
    "        tf.compat.v1.summary.histogram('weights', w)\n",
    "        tf.compat.v1.summary.histogram('biases', b)\n",
    "        \n",
    "        return layer_out"
   ]
  },
  {
   "cell_type": "markdown",
   "id": "e0a13c0b",
   "metadata": {},
   "source": [
    "#### *Setup 1st layer*"
   ]
  },
  {
   "cell_type": "code",
   "execution_count": 11,
   "id": "e798d49c",
   "metadata": {},
   "outputs": [],
   "source": [
    "# with tf.name_scope('hidden_1'):\n",
    "#     # set initial random weights for 1st layer\n",
    "#     initial_w1 = tf.random.truncated_normal(shape=[TOTAL_INPUTS, n_hidden1], stddev=0.1)\n",
    "#     # create tf variable for weights\n",
    "#     w1 = tf.Variable(initial_value=initial_w1, name='w1')\n",
    "\n",
    "#     # set initial bias for 1st layer\n",
    "#     initial_b1 = tf.constant(value=0.0, shape=[n_hidden1])\n",
    "#     b1 = tf.Variable(initial_value=initial_b1, name='b1')\n",
    "\n",
    "#     # https://www.tensorflow.org/api_docs/python/tf/linalg/matmul\n",
    "\n",
    "#     # set 1st layer inputs (X which is the raw inputs multiplied by the weights (matrix mult) + bias)\n",
    "#     # this result is what feeds the activation function\n",
    "#     layer1_in = tf.matmul(X, w1) + b1\n",
    "\n",
    "#     # set 1st layer outputs using rectified linear (activation function)\n",
    "#     layer1_out = tf.nn.relu(layer1_in)\n",
    "\n",
    "h1_output = layer_setup(input=X, weigth_dim=[TOTAL_INPUTS, n_hidden1],\n",
    "                        bias_dim=[n_hidden1], name='hidden_1')\n",
    "\n",
    "# add dropout layer\n",
    "dropout_layer_output = tf.compat.v1.nn.dropout(h1_output, rate=0.2, name='dropout_layer')"
   ]
  },
  {
   "cell_type": "markdown",
   "id": "a2b12a24",
   "metadata": {},
   "source": [
    "##### *Setup 2nd layer*"
   ]
  },
  {
   "cell_type": "code",
   "execution_count": 12,
   "id": "ce4f3bbc",
   "metadata": {},
   "outputs": [],
   "source": [
    "# with tf.name_scope('hidden_2'):\n",
    "#     # setup weights and biases\n",
    "#     initial_w2 = tf.random.truncated_normal(shape=[n_hidden1, n_hidden2], stddev=0.1)\n",
    "#     w2 = tf.Variable(initial_value=initial_w2, name='w2')\n",
    "#     initial_b2 = tf.constant(value=0.0, shape=[n_hidden2])\n",
    "#     b2 = tf.Variable(initial_value=initial_b2, name='b2')\n",
    "\n",
    "#     # setup inputs and outputs\n",
    "#     layer2_in = tf.matmul(layer1_out, w2) + b2\n",
    "#     layer2_out = tf.nn.relu(layer2_in)\n",
    "\n",
    "h2_output = layer_setup(input=dropout_layer_output, weigth_dim=[n_hidden1, n_hidden2],\n",
    "                        bias_dim=[n_hidden2], name='hidden_2')"
   ]
  },
  {
   "cell_type": "markdown",
   "id": "987b5aef",
   "metadata": {},
   "source": [
    "#### *Setup output layer*"
   ]
  },
  {
   "cell_type": "code",
   "execution_count": 13,
   "id": "98b4d959",
   "metadata": {},
   "outputs": [],
   "source": [
    "# with tf.name_scope('output_layer'):\n",
    "#     # setup weights and biases\n",
    "#     initial_w3 = tf.random.truncated_normal(shape=[n_hidden2, NUM_CLASSES], stddev=0.1)\n",
    "#     w3 = tf.Variable(initial_value=initial_w3, name='w3')\n",
    "#     initial_b3 = tf.constant(value=0.0, shape=[NUM_CLASSES])\n",
    "#     b3 = tf.Variable(initial_value=initial_b3, name='b3')\n",
    "\n",
    "#     # setup inputs and outputs\n",
    "#     layer3_in = tf.matmul(layer2_out, w3) + b3\n",
    "#     final_output = tf.nn.softmax(layer3_in) # softmax is used as activation function because it's the output layer\n",
    "\n",
    "final_output = layer_setup(input=h2_output, weigth_dim=[n_hidden2, NUM_CLASSES],\n",
    "                     bias_dim=[NUM_CLASSES], name='out')"
   ]
  },
  {
   "cell_type": "markdown",
   "id": "e57b1ca7",
   "metadata": {},
   "source": [
    "### *Tensorboard Setup*"
   ]
  },
  {
   "cell_type": "code",
   "execution_count": 14,
   "id": "c81e75a3",
   "metadata": {},
   "outputs": [
    {
     "name": "stdout",
     "output_type": "stream",
     "text": [
      "Directory created.\n"
     ]
    }
   ],
   "source": [
    "folder_name = f'{model_name}_{strftime(\"%H:%M\")}'\n",
    "directory = os.path.join(LOGGING_PATH, folder_name)\n",
    "\n",
    "try:\n",
    "    os.makedirs(directory)\n",
    "except OSError as exception:\n",
    "    print(exception.strerror)\n",
    "else:\n",
    "    print('Directory created.')"
   ]
  },
  {
   "cell_type": "markdown",
   "id": "5461cac2",
   "metadata": {},
   "source": [
    "### Loss function"
   ]
  },
  {
   "cell_type": "code",
   "execution_count": 15,
   "id": "c45649c0",
   "metadata": {},
   "outputs": [],
   "source": [
    "with tf.name_scope('loss_calc'):\n",
    "    # https://www.tensorflow.org/api_docs/python/tf/nn/softmax_cross_entropy_with_logits\n",
    "\n",
    "    # reduce_mean is used to get the average of the losses as the training\n",
    "    # will happen in batches instead of the whole dataset.\n",
    "    loss = tf.reduce_mean(tf.nn.softmax_cross_entropy_with_logits(labels=Y, logits=final_output))"
   ]
  },
  {
   "cell_type": "markdown",
   "id": "2594e033",
   "metadata": {},
   "source": [
    "### Optimizer"
   ]
  },
  {
   "cell_type": "code",
   "execution_count": 16,
   "id": "2e5847bc",
   "metadata": {},
   "outputs": [],
   "source": [
    "with tf.name_scope('optimizer'):\n",
    "    # https://www.tensorflow.org/api_docs/python/tf/compat/v1/train/AdamOptimizer\n",
    "    optimizer = tf.compat.v1.train.AdamOptimizer(learning_rate=learning_rate)\n",
    "\n",
    "    # https://www.tensorflow.org/api_docs/python/tf/compat/v1/train/AdamOptimizer#minimize\n",
    "    train_step = optimizer.minimize(loss)"
   ]
  },
  {
   "cell_type": "markdown",
   "id": "6dae6960",
   "metadata": {},
   "source": [
    "### Accuracy"
   ]
  },
  {
   "cell_type": "code",
   "execution_count": 17,
   "id": "7dcb5d45",
   "metadata": {},
   "outputs": [],
   "source": [
    "with tf.name_scope('accuracy_calc'):\n",
    "    # argmax of the final_output row has the highest probability from indexes 0-9 (softmax output)\n",
    "    # argmax of the Y row has 1 for the true label and 0 for the rest from indexes 0-9 (one-hot-encoding)\n",
    "    model_prediction = tf.argmax(final_output, axis=1, name='prediction')\n",
    "    correct_prediction = tf.equal(model_prediction, tf.argmax(Y, axis=1))\n",
    "    # calculate accuracy\n",
    "    acc = tf.reduce_mean(tf.cast(correct_prediction, tf.float32))"
   ]
  },
  {
   "cell_type": "code",
   "execution_count": 18,
   "id": "1c230b70",
   "metadata": {},
   "outputs": [],
   "source": [
    "with tf.name_scope('performance'):\n",
    "    # (tensorboard)\n",
    "    # add summary for the accuracy\n",
    "    tf.compat.v1.summary.scalar('accuracy', acc)\n",
    "    # add summary for the loss\n",
    "    tf.compat.v1.summary.scalar('loss', loss)"
   ]
  },
  {
   "cell_type": "markdown",
   "id": "459476f2",
   "metadata": {},
   "source": [
    "### Display input images in Tensorboard"
   ]
  },
  {
   "cell_type": "code",
   "execution_count": 19,
   "id": "5320478e",
   "metadata": {},
   "outputs": [],
   "source": [
    "with tf.name_scope('show_image'):\n",
    "    x_image = tf.reshape(X, [-1, IMAGE_WIDTH, IMAGE_HEIGHT, NUM_CHANNELS])\n",
    "    tf.compat.v1.summary.image('image_input', x_image, max_outputs=5)"
   ]
  },
  {
   "cell_type": "markdown",
   "id": "199dca60",
   "metadata": {},
   "source": [
    "---"
   ]
  },
  {
   "cell_type": "markdown",
   "id": "9b6c3491",
   "metadata": {},
   "source": [
    "## *Start and run session*"
   ]
  },
  {
   "cell_type": "code",
   "execution_count": 20,
   "id": "aa82fe01",
   "metadata": {
    "scrolled": true
   },
   "outputs": [
    {
     "name": "stderr",
     "output_type": "stream",
     "text": [
      "2021-12-21 21:51:44.507360: E tensorflow/stream_executor/cuda/cuda_driver.cc:271] failed call to cuInit: CUDA_ERROR_NO_DEVICE: no CUDA-capable device is detected\n",
      "2021-12-21 21:51:44.507428: I tensorflow/stream_executor/cuda/cuda_diagnostics.cc:156] kernel driver does not appear to be running on this host (edlcorrea-X555LF): /proc/driver/nvidia/version does not exist\n",
      "2021-12-21 21:51:44.509696: I tensorflow/core/platform/cpu_feature_guard.cc:151] This TensorFlow binary is optimized with oneAPI Deep Neural Network Library (oneDNN) to use the following CPU instructions in performance-critical operations:  AVX2 FMA\n",
      "To enable them in other operations, rebuild TensorFlow with the appropriate compiler flags.\n"
     ]
    }
   ],
   "source": [
    "# \"A Session object encapsulates the environment in which \n",
    "# Operation objects are executed, and Tensor objects are evaluated.\"\n",
    "session = tf.compat.v1.Session()"
   ]
  },
  {
   "cell_type": "markdown",
   "id": "8f5d03a0",
   "metadata": {},
   "source": [
    "### *[Tensorboard] Setup FileWriter and merge summaries*"
   ]
  },
  {
   "cell_type": "code",
   "execution_count": 21,
   "id": "9955da97",
   "metadata": {},
   "outputs": [],
   "source": [
    "# setup FileWriter and merge summaries (tensorboard)\n",
    "merged_summary = tf.compat.v1.summary.merge_all()\n",
    "\n",
    "# define train writer\n",
    "train_writer = tf.compat.v1.summary.FileWriter(directory + '/train')\n",
    "train_writer.add_graph(session.graph)\n",
    "\n",
    "# define validation writer\n",
    "validation_writer = tf.compat.v1.summary.FileWriter(directory + '/validation')"
   ]
  },
  {
   "cell_type": "code",
   "execution_count": 22,
   "id": "4d3b2822",
   "metadata": {},
   "outputs": [],
   "source": [
    "# initialize the variables\n",
    "init = tf.compat.v1.global_variables_initializer()\n",
    "session.run(init)"
   ]
  },
  {
   "cell_type": "markdown",
   "id": "0c0c30a9",
   "metadata": {},
   "source": [
    "### *Batching the data*"
   ]
  },
  {
   "cell_type": "code",
   "execution_count": 23,
   "id": "c1e58a24",
   "metadata": {},
   "outputs": [],
   "source": [
    "batch_size = 1000\n",
    "num_examples = y_train.shape[0]\n",
    "num_iterations = int(num_examples/batch_size)\n",
    "\n",
    "index_in_epoch = 0"
   ]
  },
  {
   "cell_type": "code",
   "execution_count": 24,
   "id": "f46e9a95",
   "metadata": {},
   "outputs": [],
   "source": [
    "def next_batch(batch_size, data, labels):\n",
    "    global num_examples\n",
    "    global index_in_epoch\n",
    "    \n",
    "    start = index_in_epoch\n",
    "    index_in_epoch += batch_size\n",
    "    \n",
    "    if index_in_epoch > num_examples:\n",
    "        # reset\n",
    "        start=0\n",
    "        index_in_epoch = batch_size\n",
    "    \n",
    "    end = index_in_epoch\n",
    "    \n",
    "    return data[start:end], labels[start:end]"
   ]
  },
  {
   "cell_type": "markdown",
   "id": "5a6c24b6",
   "metadata": {},
   "source": [
    "### Write the training loop"
   ]
  },
  {
   "cell_type": "code",
   "execution_count": 25,
   "id": "71d2eacd",
   "metadata": {},
   "outputs": [
    {
     "name": "stdout",
     "output_type": "stream",
     "text": [
      "Training started.\n",
      "Epoch 0 \t| Training accuracy = 0.8560000061988831\n",
      "Epoch 1 \t| Training accuracy = 0.9369999766349792\n",
      "Epoch 2 \t| Training accuracy = 0.9679999947547913\n",
      "Epoch 3 \t| Training accuracy = 0.972000002861023\n",
      "Epoch 4 \t| Training accuracy = 0.9729999899864197\n",
      "Epoch 5 \t| Training accuracy = 0.9760000109672546\n",
      "Epoch 6 \t| Training accuracy = 0.9800000190734863\n",
      "Epoch 7 \t| Training accuracy = 0.9769999980926514\n",
      "Epoch 8 \t| Training accuracy = 0.9850000143051147\n",
      "Epoch 9 \t| Training accuracy = 0.9860000014305115\n",
      "Epoch 10 \t| Training accuracy = 0.9860000014305115\n",
      "Epoch 11 \t| Training accuracy = 0.9900000095367432\n",
      "Epoch 12 \t| Training accuracy = 0.9879999756813049\n",
      "Epoch 13 \t| Training accuracy = 0.9890000224113464\n",
      "Epoch 14 \t| Training accuracy = 0.9890000224113464\n",
      "Epoch 15 \t| Training accuracy = 0.9909999966621399\n",
      "Epoch 16 \t| Training accuracy = 0.9890000224113464\n",
      "Epoch 17 \t| Training accuracy = 0.9909999966621399\n",
      "Epoch 18 \t| Training accuracy = 0.9890000224113464\n",
      "Epoch 19 \t| Training accuracy = 0.9900000095367432\n",
      "Epoch 20 \t| Training accuracy = 0.9879999756813049\n",
      "Epoch 21 \t| Training accuracy = 0.9900000095367432\n",
      "Epoch 22 \t| Training accuracy = 0.9890000224113464\n",
      "Epoch 23 \t| Training accuracy = 0.9900000095367432\n",
      "Epoch 24 \t| Training accuracy = 0.9909999966621399\n",
      "Epoch 25 \t| Training accuracy = 0.9909999966621399\n",
      "Epoch 26 \t| Training accuracy = 0.9860000014305115\n",
      "Epoch 27 \t| Training accuracy = 0.9900000095367432\n",
      "Epoch 28 \t| Training accuracy = 0.9909999966621399\n",
      "Epoch 29 \t| Training accuracy = 0.9909999966621399\n",
      "Epoch 30 \t| Training accuracy = 0.9900000095367432\n",
      "Epoch 31 \t| Training accuracy = 0.9909999966621399\n",
      "Epoch 32 \t| Training accuracy = 0.9909999966621399\n",
      "Epoch 33 \t| Training accuracy = 0.9879999756813049\n",
      "Epoch 34 \t| Training accuracy = 0.9909999966621399\n",
      "Epoch 35 \t| Training accuracy = 0.9909999966621399\n",
      "Epoch 36 \t| Training accuracy = 0.9900000095367432\n",
      "Epoch 37 \t| Training accuracy = 0.9909999966621399\n",
      "Epoch 38 \t| Training accuracy = 0.9890000224113464\n",
      "Epoch 39 \t| Training accuracy = 0.9900000095367432\n",
      "Epoch 40 \t| Training accuracy = 0.9890000224113464\n",
      "Epoch 41 \t| Training accuracy = 0.9919999837875366\n",
      "Epoch 42 \t| Training accuracy = 0.9919999837875366\n",
      "Epoch 43 \t| Training accuracy = 0.9919999837875366\n",
      "Epoch 44 \t| Training accuracy = 0.9909999966621399\n",
      "Epoch 45 \t| Training accuracy = 0.9909999966621399\n",
      "Epoch 46 \t| Training accuracy = 0.9919999837875366\n",
      "Epoch 47 \t| Training accuracy = 0.9919999837875366\n",
      "Epoch 48 \t| Training accuracy = 0.9909999966621399\n",
      "Epoch 49 \t| Training accuracy = 0.9919999837875366\n",
      "Training complete.\n"
     ]
    }
   ],
   "source": [
    "print('Training started.')\n",
    "for epoch in range(num_epochs):\n",
    "    \n",
    "    # TRAINING DATASET\n",
    "    for i in range(num_iterations):\n",
    "        batch_x, batch_y = next_batch(batch_size=batch_size, data=x_train, labels=y_train)\n",
    "        \n",
    "        # create feed dictionary\n",
    "        feed_dictionary = {X: batch_x, Y: batch_y}        \n",
    "        # do the calculations for training\n",
    "        session.run(train_step, feed_dict=feed_dictionary)\n",
    "    \n",
    "    # fetch the accuracy and summary from session\n",
    "    train_summary, batch_accuracy = session.run(fetches=[merged_summary, acc], feed_dict=feed_dictionary)\n",
    "    train_writer.add_summary(train_summary, epoch)\n",
    "        \n",
    "    print(f'Epoch {epoch} \\t| Training accuracy = {batch_accuracy}')\n",
    "    \n",
    "    # VALIDATION DATASET\n",
    "    val_summary = session.run(fetches=merged_summary, feed_dict={X: x_val, Y: y_val})\n",
    "    validation_writer.add_summary(val_summary, epoch)\n",
    "    \n",
    "print('Training complete.')"
   ]
  },
  {
   "cell_type": "markdown",
   "id": "cc79cb4e",
   "metadata": {},
   "source": [
    "---\n",
    "## *Save the model (for future serving)*"
   ]
  },
  {
   "cell_type": "code",
   "execution_count": 26,
   "id": "c43f08a7",
   "metadata": {},
   "outputs": [
    {
     "name": "stdout",
     "output_type": "stream",
     "text": [
      "WARNING:tensorflow:From /tmp/ipykernel_19602/1118876126.py:5: simple_save (from tensorflow.python.saved_model.simple_save) is deprecated and will be removed in a future version.\n",
      "Instructions for updating:\n",
      "This function will only be available through the v1 compatibility library as tf.compat.v1.saved_model.simple_save.\n",
      "WARNING:tensorflow:From /home/edlcorrea/.local/lib/python3.9/site-packages/tensorflow/python/saved_model/signature_def_utils_impl.py:207: build_tensor_info (from tensorflow.python.saved_model.utils_impl) is deprecated and will be removed in a future version.\n",
      "Instructions for updating:\n",
      "This function will only be available through the v1 compatibility library as tf.compat.v1.saved_model.utils.build_tensor_info or tf.compat.v1.saved_model.build_tensor_info.\n",
      "INFO:tensorflow:Assets added to graph.\n",
      "INFO:tensorflow:No assets to write.\n",
      "INFO:tensorflow:SavedModel written to: SavedModel_digit-recog/saved_model.pb\n"
     ]
    }
   ],
   "source": [
    "# # https://www.tensorflow.org/api_docs/python/tf/compat/v1/saved_model/simple_save\n",
    "outputs = { 'accuracy_calc/prediction': model_prediction }\n",
    "inputs = { 'X': X }\n",
    "\n",
    "tf.compat.v1.saved_model.simple_save(session=session, export_dir=EXPORT_PATH,\n",
    "                                     inputs=inputs, outputs=outputs)"
   ]
  },
  {
   "cell_type": "markdown",
   "id": "7a714042",
   "metadata": {},
   "source": [
    "---"
   ]
  },
  {
   "cell_type": "markdown",
   "id": "b8bb42ed",
   "metadata": {},
   "source": [
    "## *Test a single prediction*"
   ]
  },
  {
   "cell_type": "code",
   "execution_count": 27,
   "id": "2dd7b2b2",
   "metadata": {},
   "outputs": [
    {
     "data": {
      "image/png": "[encoded data removed]",
      "text/plain": [
       "<PIL.PngImagePlugin.PngImageFile image mode=RGBA size=28x28 at 0x7FABB8F16490>"
      ]
     },
     "execution_count": 27,
     "metadata": {},
     "output_type": "execute_result"
    }
   ],
   "source": [
    "sample_img = Image.open(SINGLE_IMG_PATH)\n",
    "sample_img"
   ]
  },
  {
   "cell_type": "code",
   "execution_count": 28,
   "id": "e6f98694",
   "metadata": {},
   "outputs": [
    {
     "name": "stdout",
     "output_type": "stream",
     "text": [
      "(28, 28)\n",
      "(784,)\n"
     ]
    }
   ],
   "source": [
    "# treat image before supplying it to the model\n",
    "# to black and white\n",
    "bw_img = sample_img.convert(mode='L')\n",
    "\n",
    "# invert colors (dataset has white color with black background)\n",
    "img_array = np.invert(bw_img)\n",
    "print(img_array.shape)\n",
    "\n",
    "# flatten values\n",
    "flat_img = img_array.ravel()\n",
    "print(flat_img.shape)"
   ]
  },
  {
   "cell_type": "markdown",
   "id": "7f77d9ba",
   "metadata": {},
   "source": [
    "### *Predict for the '2' image*"
   ]
  },
  {
   "cell_type": "code",
   "execution_count": 29,
   "id": "ef846fab",
   "metadata": {},
   "outputs": [
    {
     "name": "stdout",
     "output_type": "stream",
     "text": [
      "Prediction result for the image of number two: [2]\n"
     ]
    }
   ],
   "source": [
    "prediction = session.run(fetches=tf.argmax(final_output, axis=1), feed_dict={ X:[flat_img] })\n",
    "print(f'Prediction result for the image of number two: {prediction}')"
   ]
  },
  {
   "cell_type": "markdown",
   "id": "13b282f3",
   "metadata": {},
   "source": [
    "# *Testing and Evaluation* "
   ]
  },
  {
   "cell_type": "code",
   "execution_count": 30,
   "id": "1a87bb52",
   "metadata": {},
   "outputs": [
    {
     "name": "stdout",
     "output_type": "stream",
     "text": [
      "Accuracy achieved on test dataset: 97.76%\n"
     ]
    }
   ],
   "source": [
    "# run the test dataset\n",
    "test_accuracy = session.run(fetches=acc, feed_dict={X:x_test, Y:y_test})\n",
    "\n",
    "print(f'Accuracy achieved on test dataset: {test_accuracy:0.2%}')"
   ]
  },
  {
   "cell_type": "markdown",
   "id": "f9b4c203",
   "metadata": {},
   "source": [
    "---\n",
    "## *Final accuracy on test dataset: 97.85%*\n",
    "---"
   ]
  },
  {
   "cell_type": "markdown",
   "id": "351d7836",
   "metadata": {},
   "source": [
    "## *Reset for next run*"
   ]
  },
  {
   "cell_type": "code",
   "execution_count": 31,
   "id": "bf736a96",
   "metadata": {},
   "outputs": [],
   "source": [
    "train_writer.close()\n",
    "validation_writer.close()\n",
    "session.close()\n",
    "tf.compat.v1.reset_default_graph()"
   ]
  },
  {
   "cell_type": "markdown",
   "id": "a0a9e9ca",
   "metadata": {},
   "source": [
    "---"
   ]
  }
 ],
 "metadata": {
  "kernelspec": {
   "display_name": "Python 3 (ipykernel)",
   "language": "python",
   "name": "python3"
  },
  "language_info": {
   "codemirror_mode": {
    "name": "ipython",
    "version": 3
   },
   "file_extension": ".py",
   "mimetype": "text/x-python",
   "name": "python",
   "nbconvert_exporter": "python",
   "pygments_lexer": "ipython3",
   "version": "3.9.7"
  }
 },
 "nbformat": 4,
 "nbformat_minor": 5
}
