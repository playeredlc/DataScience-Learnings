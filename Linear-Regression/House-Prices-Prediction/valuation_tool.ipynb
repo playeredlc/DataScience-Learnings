{
 "cells": [
  {
   "cell_type": "code",
   "execution_count": 1,
   "id": "trained-elder",
   "metadata": {},
   "outputs": [],
   "source": [
    "import pandas as pd\n",
    "import numpy as np\n",
    "\n",
    "from sklearn.datasets import load_boston\n",
    "from sklearn.linear_model import LinearRegression\n",
    "from sklearn.metrics import mean_squared_error"
   ]
  },
  {
   "cell_type": "code",
   "execution_count": 2,
   "id": "alternative-requirement",
   "metadata": {},
   "outputs": [],
   "source": [
    "# gather data\n",
    "boston_dataset = load_boston()\n",
    "data = pd.DataFrame(data=boston_dataset.data, columns=boston_dataset.feature_names)\n",
    "features = data.drop(['INDUS', 'AGE'], axis=1) # features (indus, age dropped)\n",
    "log_target = np.log(boston_dataset.target)\n",
    "target = pd.DataFrame(log_target, columns=['PRICE']) # target (in logs)"
   ]
  },
  {
   "cell_type": "code",
   "execution_count": 3,
   "id": "gothic-conviction",
   "metadata": {},
   "outputs": [],
   "source": [
    "# set default values\n",
    "property_stats = features.mean().values.reshape(1, 11) # average of all instances for each feature"
   ]
  },
  {
   "cell_type": "code",
   "execution_count": 4,
   "id": "expensive-chile",
   "metadata": {},
   "outputs": [],
   "source": [
    "# index to key features\n",
    "CHAS_IDX = 2\n",
    "RM_IDX = 4\n",
    "PTRATIO_IDX = 8\n",
    "default_ptratio = property_stats[0][PTRATIO_IDX]\n",
    "\n",
    "# 2021 scale factor\n",
    "ZILLOW_MEDIAN_PRICE = 659.8\n",
    "SCALE_FACTOR = ZILLOW_MEDIAN_PRICE / np.median(boston_dataset.target)"
   ]
  },
  {
   "cell_type": "code",
   "execution_count": 5,
   "id": "roman-cemetery",
   "metadata": {},
   "outputs": [],
   "source": [
    "reg = LinearRegression().fit(features, target)\n",
    "fitted_vals = reg.predict(features)\n",
    "mse = mean_squared_error(target, fitted_vals) # log (prices $)\n",
    "rmse = np.sqrt(mse) # log (prices $)"
   ]
  },
  {
   "cell_type": "code",
   "execution_count": 6,
   "id": "mighty-abuse",
   "metadata": {},
   "outputs": [],
   "source": [
    "def get_log_estimate(rooms, pt_ratio,\n",
    "                     next_to_river=False, high_confidence=True):\n",
    "    # config default values\n",
    "    property_stats[0][RM_IDX] = rooms\n",
    "    property_stats[0][PTRATIO_IDX] = pt_ratio\n",
    "    if next_to_river:\n",
    "        property_stats[0][CHAS_IDX] = 1\n",
    "    else:\n",
    "        property_stats[0][CHAS_IDX] = 0\n",
    "    \n",
    "    # estimate\n",
    "    log_estimate = reg.predict(property_stats)[0][0]\n",
    "    \n",
    "    # range\n",
    "    if high_confidence:\n",
    "        lower_bound = log_estimate - 2*rmse\n",
    "        upper_bound = log_estimate + 2*rmse\n",
    "        interval = '95'\n",
    "    else:\n",
    "        lower_bound = log_estimate - rmse\n",
    "        upper_bound = log_estimate + rmse\n",
    "        interval = '68'\n",
    "    \n",
    "    return log_estimate, lower_bound, upper_bound, interval"
   ]
  },
  {
   "cell_type": "code",
   "execution_count": 7,
   "id": "split-florist",
   "metadata": {},
   "outputs": [],
   "source": [
    "def get_dollar_estimate(rm, ptratio=default_ptratio, chas=False, large_range=True):\n",
    "    \"\"\"\n",
    "    Estimate the price of a property in the Boston Area in USD.\n",
    "    It also returns the range of value for the property.\n",
    "    \n",
    "    Args:\n",
    "        rm (int): Indicates the number of rooms in a property.\n",
    "        ptratio (float): Pupils/teacher ratio at the school in the property area.\n",
    "        chas (bool): True if the property is next to the Charles River, False otherwise.\n",
    "        large_range (bool): Indicates the confidence of the the model in determing the range.\n",
    "    \"\"\"\n",
    "    \n",
    "    if rm < 0 or ptratio < 0:\n",
    "        print('Invalid arguments.')\n",
    "        return\n",
    "    log_est, lower, upper, confidence = get_log_estimate(rooms=rm, \n",
    "                                                         pt_ratio=ptratio,\n",
    "                                                         next_to_river=chas,\n",
    "                                                         high_confidence=large_range)\n",
    "    \n",
    "    dll_est = np.e**log_est * 1000 * SCALE_FACTOR\n",
    "    dll_low = np.e**lower * 1000 * SCALE_FACTOR\n",
    "    dll_up = np.e**upper * 1000 * SCALE_FACTOR\n",
    "    \n",
    "    round_dll_est = np.around(dll_est, -3)\n",
    "    round_dll_low = np.around(dll_low, -3)\n",
    "    round_dll_up = np.around(dll_up, -3)\n",
    "    \n",
    "    print(f'The estimated property value is ${round_dll_est}')\n",
    "    print(f'At {confidence}% confidence the valuation range is:')\n",
    "    print(f'${round_dll_low} - ${round_dll_up}')"
   ]
  },
  {
   "cell_type": "code",
   "execution_count": 8,
   "id": "normal-dominican",
   "metadata": {
    "scrolled": true
   },
   "outputs": [
    {
     "name": "stdout",
     "output_type": "stream",
     "text": [
      "The estimated property value is $344000.0\n",
      "At 95% confidence the valuation range is:\n",
      "$236000.0 - $500000.0\n"
     ]
    }
   ],
   "source": [
    "get_dollar_estimate(rm=3, ptratio=30, chas=True)"
   ]
  },
  {
   "cell_type": "markdown",
   "id": "romantic-mayor",
   "metadata": {},
   "source": [
    "---\n",
    "### *After putting all these code in a .py file:*"
   ]
  },
  {
   "cell_type": "code",
   "execution_count": 9,
   "id": "chicken-lewis",
   "metadata": {},
   "outputs": [
    {
     "name": "stdout",
     "output_type": "stream",
     "text": [
      "The estimated property value is $344000.0\n",
      "At 95% confidence the valuation range is:\n",
      "$236000.0 - $500000.0\n"
     ]
    }
   ],
   "source": [
    "import boston_house_valuation as house_val\n",
    "house_val.get_dollar_estimate(rm=3, ptratio=30, chas=True)"
   ]
  }
 ],
 "metadata": {
  "kernelspec": {
   "display_name": "Python 3",
   "language": "python",
   "name": "python3"
  },
  "language_info": {
   "codemirror_mode": {
    "name": "ipython",
    "version": 3
   },
   "file_extension": ".py",
   "mimetype": "text/x-python",
   "name": "python",
   "nbconvert_exporter": "python",
   "pygments_lexer": "ipython3",
   "version": "3.8.5"
  }
 },
 "nbformat": 4,
 "nbformat_minor": 5
}
