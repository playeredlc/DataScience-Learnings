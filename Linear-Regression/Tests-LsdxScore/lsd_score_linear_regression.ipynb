{
 "cells": [
  {
   "cell_type": "code",
   "execution_count": 1,
   "id": "equal-barcelona",
   "metadata": {},
   "outputs": [],
   "source": [
    "import pandas as pd\n",
    "import matplotlib.pyplot as plt\n",
    "from sklearn.linear_model import LinearRegression"
   ]
  },
  {
   "cell_type": "markdown",
   "id": "colored-exploration",
   "metadata": {},
   "source": [
    "---"
   ]
  },
  {
   "cell_type": "markdown",
   "id": "handed-pizza",
   "metadata": {},
   "source": [
    "##### **Study:** *Correlation of performance test scores with “tissue concentration” of lysergic acid diethylamide in human subiects. September 1968*\n",
    "##### **Authors:** *John G. Wagner Ph.D.  George K. Aghajanian M.D.  Oscar H. L. Bing M.D.*"
   ]
  },
  {
   "cell_type": "markdown",
   "id": "partial-wales",
   "metadata": {},
   "source": [
    "---"
   ]
  },
  {
   "cell_type": "code",
   "execution_count": 2,
   "id": "sharp-luxembourg",
   "metadata": {},
   "outputs": [],
   "source": [
    "data = pd.read_csv('lsd_math_score_data.csv')"
   ]
  },
  {
   "cell_type": "code",
   "execution_count": 3,
   "id": "british-helping",
   "metadata": {},
   "outputs": [
    {
     "data": {
      "text/html": [
       "<div>\n",
       "<style scoped>\n",
       "    .dataframe tbody tr th:only-of-type {\n",
       "        vertical-align: middle;\n",
       "    }\n",
       "\n",
       "    .dataframe tbody tr th {\n",
       "        vertical-align: top;\n",
       "    }\n",
       "\n",
       "    .dataframe thead th {\n",
       "        text-align: right;\n",
       "    }\n",
       "</style>\n",
       "<table border=\"1\" class=\"dataframe\">\n",
       "  <thead>\n",
       "    <tr style=\"text-align: right;\">\n",
       "      <th></th>\n",
       "      <th>Time_Delay_in_Minutes</th>\n",
       "      <th>LSD_ppm</th>\n",
       "      <th>Avg_Math_Test_Score</th>\n",
       "    </tr>\n",
       "  </thead>\n",
       "  <tbody>\n",
       "    <tr>\n",
       "      <th>0</th>\n",
       "      <td>5</td>\n",
       "      <td>1.17</td>\n",
       "      <td>78.93</td>\n",
       "    </tr>\n",
       "    <tr>\n",
       "      <th>1</th>\n",
       "      <td>15</td>\n",
       "      <td>2.97</td>\n",
       "      <td>58.20</td>\n",
       "    </tr>\n",
       "    <tr>\n",
       "      <th>2</th>\n",
       "      <td>30</td>\n",
       "      <td>3.26</td>\n",
       "      <td>67.47</td>\n",
       "    </tr>\n",
       "    <tr>\n",
       "      <th>3</th>\n",
       "      <td>60</td>\n",
       "      <td>4.69</td>\n",
       "      <td>37.47</td>\n",
       "    </tr>\n",
       "    <tr>\n",
       "      <th>4</th>\n",
       "      <td>120</td>\n",
       "      <td>5.83</td>\n",
       "      <td>45.65</td>\n",
       "    </tr>\n",
       "    <tr>\n",
       "      <th>5</th>\n",
       "      <td>240</td>\n",
       "      <td>6.00</td>\n",
       "      <td>32.92</td>\n",
       "    </tr>\n",
       "    <tr>\n",
       "      <th>6</th>\n",
       "      <td>480</td>\n",
       "      <td>6.41</td>\n",
       "      <td>29.97</td>\n",
       "    </tr>\n",
       "  </tbody>\n",
       "</table>\n",
       "</div>"
      ],
      "text/plain": [
       "   Time_Delay_in_Minutes  LSD_ppm  Avg_Math_Test_Score\n",
       "0                      5     1.17                78.93\n",
       "1                     15     2.97                58.20\n",
       "2                     30     3.26                67.47\n",
       "3                     60     4.69                37.47\n",
       "4                    120     5.83                45.65\n",
       "5                    240     6.00                32.92\n",
       "6                    480     6.41                29.97"
      ]
     },
     "execution_count": 3,
     "metadata": {},
     "output_type": "execute_result"
    }
   ],
   "source": [
    "data"
   ]
  },
  {
   "cell_type": "code",
   "execution_count": 4,
   "id": "least-soccer",
   "metadata": {},
   "outputs": [],
   "source": [
    "time = data[['Time_Delay_in_Minutes']]\n",
    "lsd = data[['LSD_ppm']]\n",
    "score = data[['Avg_Math_Test_Score']]"
   ]
  },
  {
   "cell_type": "markdown",
   "id": "qualified-jacket",
   "metadata": {},
   "source": [
    "---"
   ]
  },
  {
   "cell_type": "markdown",
   "id": "combined-madison",
   "metadata": {},
   "source": [
    "##### Check what is the 'tissue concentration of LSD' over time.\n",
    "##### *(increasing behaviour)*"
   ]
  },
  {
   "cell_type": "code",
   "execution_count": 5,
   "id": "collectible-right",
   "metadata": {
    "scrolled": false
   },
   "outputs": [
    {
     "data": {
      "image/png": "[encoded data removed]",
      "text/plain": [
       "<Figure size 432x288 with 1 Axes>"
      ]
     },
     "metadata": {},
     "output_type": "display_data"
    }
   ],
   "source": [
    "%matplotlib inline\n",
    "\n",
    "plt.style.use('dark_background')\n",
    "plt.title('Tissue concentration over time', fontsize=16, pad=16)\n",
    "plt.xlabel('Time in minutes', fontsize=12)\n",
    "plt.ylabel('Tissue LSD ppm', fontsize=12)\n",
    "plt.text(0, -0.5, 'Wagner et al. (1968)')\n",
    "\n",
    "plt.plot(time, lsd, c='r')\n",
    "plt.show()"
   ]
  },
  {
   "cell_type": "markdown",
   "id": "finished-diving",
   "metadata": {},
   "source": [
    "---"
   ]
  },
  {
   "cell_type": "markdown",
   "id": "weird-deficit",
   "metadata": {},
   "source": [
    "##### Using Ordinary least squares Linear Regression to predict the performance in a math test based on the tissue concentration of LSD."
   ]
  },
  {
   "cell_type": "code",
   "execution_count": 6,
   "id": "sound-manchester",
   "metadata": {},
   "outputs": [
    {
     "name": "stdout",
     "output_type": "stream",
     "text": [
      "Coefficient:  -9.009466415296782\n",
      "Independent term:  89.12387376799305\n",
      "R-Square:  0.8778349707775888\n"
     ]
    }
   ],
   "source": [
    "reg = LinearRegression().fit(lsd, score)\n",
    "print('Coefficient: ', reg.coef_[0][0])\n",
    "print('Independent term: ', reg.intercept_[0])\n",
    "print('R-Square: ', reg.score(lsd, score))\n",
    "predicted_score = reg.predict(lsd)"
   ]
  },
  {
   "cell_type": "markdown",
   "id": "present-tyler",
   "metadata": {},
   "source": [
    "##### *The values estimated in the **original study** for the coefficient and for the independent term were:*\n",
    "##### *Coefficient: -9.44*\n",
    "##### *Independent term: 89.7*"
   ]
  },
  {
   "cell_type": "markdown",
   "id": "needed-routine",
   "metadata": {},
   "source": [
    "---"
   ]
  },
  {
   "cell_type": "markdown",
   "id": "awful-legislation",
   "metadata": {},
   "source": [
    "##### *Drawing the least squares line:*"
   ]
  },
  {
   "cell_type": "code",
   "execution_count": 7,
   "id": "cellular-mirror",
   "metadata": {},
   "outputs": [
    {
     "data": {
      "image/png": "[encoded data removed]",
      "text/plain": [
       "<Figure size 432x288 with 1 Axes>"
      ]
     },
     "metadata": {
      "needs_background": "dark"
     },
     "output_type": "display_data"
    }
   ],
   "source": [
    "%matplotlib inline\n",
    "plt.title('Math test performance vs LSD-25', fontsize=16, pad=16)\n",
    "plt.xlabel('Tissue LSD ppm', fontsize=12)\n",
    "plt.ylabel('Performance score', fontsize=12)\n",
    "plt.xlim(0, 7)\n",
    "plt.ylim(0, 90)\n",
    "\n",
    "plt.scatter(lsd, score, c='b', s=100, alpha=0.5)\n",
    "plt.plot(lsd, predicted_score, c='r', lw=2)\n",
    "plt.show()"
   ]
  }
 ],
 "metadata": {
  "kernelspec": {
   "display_name": "Python 3",
   "language": "python",
   "name": "python3"
  },
  "language_info": {
   "codemirror_mode": {
    "name": "ipython",
    "version": 3
   },
   "file_extension": ".py",
   "mimetype": "text/x-python",
   "name": "python",
   "nbconvert_exporter": "python",
   "pygments_lexer": "ipython3",
   "version": "3.8.5"
  }
 },
 "nbformat": 4,
 "nbformat_minor": 5
}
