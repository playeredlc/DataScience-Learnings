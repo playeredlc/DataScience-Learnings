{
 "cells": [
  {
   "cell_type": "code",
   "execution_count": 1,
   "id": "similar-simon",
   "metadata": {},
   "outputs": [],
   "source": [
    "from email_extractor import get_emails_df # local package\n",
    "import pandas as pd"
   ]
  },
  {
   "cell_type": "code",
   "execution_count": 2,
   "id": "atmospheric-characterization",
   "metadata": {},
   "outputs": [],
   "source": [
    "SPAM_1_PATH = 'spam-data/spam_assassin_corpus/spam_1'\n",
    "SPAM_2_PATH = 'spam-data/spam_assassin_corpus/spam_2'\n",
    "EASY_NONSPAM_1_PATH = 'spam-data/spam_assassin_corpus/easy_ham_1'\n",
    "EASY_NONSPAM_2_PATH = 'spam-data/spam_assassin_corpus/easy_ham_2'\n",
    "\n",
    "SPAM_CATEGORY = 1\n",
    "HAM_CATEGORY = 0"
   ]
  },
  {
   "cell_type": "markdown",
   "id": "damaged-cricket",
   "metadata": {},
   "source": [
    "# *Gather data:*\n",
    "### *load spam and ham body email DataFrames*"
   ]
  },
  {
   "cell_type": "code",
   "execution_count": 3,
   "id": "exceptional-shooting",
   "metadata": {},
   "outputs": [
    {
     "name": "stdout",
     "output_type": "stream",
     "text": [
      "(1898, 2)\n"
     ]
    },
    {
     "data": {
      "text/html": [
       "<div>\n",
       "<style scoped>\n",
       "    .dataframe tbody tr th:only-of-type {\n",
       "        vertical-align: middle;\n",
       "    }\n",
       "\n",
       "    .dataframe tbody tr th {\n",
       "        vertical-align: top;\n",
       "    }\n",
       "\n",
       "    .dataframe thead th {\n",
       "        text-align: right;\n",
       "    }\n",
       "</style>\n",
       "<table border=\"1\" class=\"dataframe\">\n",
       "  <thead>\n",
       "    <tr style=\"text-align: right;\">\n",
       "      <th></th>\n",
       "      <th>MESSAGE</th>\n",
       "      <th>CATEGORY</th>\n",
       "    </tr>\n",
       "  </thead>\n",
       "  <tbody>\n",
       "    <tr>\n",
       "      <th>00279.1d58a13e343c1e53aca2ed2121a3f815</th>\n",
       "      <td>5, Meridian East\\n\\nLeicester LE3 2WZ \\n\\nLeic...</td>\n",
       "      <td>1</td>\n",
       "    </tr>\n",
       "    <tr>\n",
       "      <th>00380.a262abe251ca7cc3026e4e146d9cf817</th>\n",
       "      <td>&lt;html&gt;\\n\\n&lt;TABLE id=AutoNumber2 style=\"BORDER-...</td>\n",
       "      <td>1</td>\n",
       "    </tr>\n",
       "    <tr>\n",
       "      <th>00176.79f82496c612ea28f45f13ca5c47f8c2</th>\n",
       "      <td>&lt;html&gt;\\n\\n&lt;head&gt;\\n\\n&lt;title&gt;&lt;/title&gt;\\n\\n&lt;/head&gt;...</td>\n",
       "      <td>1</td>\n",
       "    </tr>\n",
       "    <tr>\n",
       "      <th>00461.1a27d007492d1c665d07db820b7dc3b8</th>\n",
       "      <td>&lt;html&gt;\\n\\n&lt;head&gt;\\n\\n&lt;title&gt;Tell Me Where to Se...</td>\n",
       "      <td>1</td>\n",
       "    </tr>\n",
       "    <tr>\n",
       "      <th>00300.834f370a21ca4f1774d5724b5443411c</th>\n",
       "      <td>&lt;HTML&gt;\\n\\n&lt;BODY&gt;\\n\\n&lt;meta http-equiv=\"Content-...</td>\n",
       "      <td>1</td>\n",
       "    </tr>\n",
       "  </tbody>\n",
       "</table>\n",
       "</div>"
      ],
      "text/plain": [
       "                                                                                  MESSAGE  \\\n",
       "00279.1d58a13e343c1e53aca2ed2121a3f815  5, Meridian East\\n\\nLeicester LE3 2WZ \\n\\nLeic...   \n",
       "00380.a262abe251ca7cc3026e4e146d9cf817  <html>\\n\\n<TABLE id=AutoNumber2 style=\"BORDER-...   \n",
       "00176.79f82496c612ea28f45f13ca5c47f8c2  <html>\\n\\n<head>\\n\\n<title></title>\\n\\n</head>...   \n",
       "00461.1a27d007492d1c665d07db820b7dc3b8  <html>\\n\\n<head>\\n\\n<title>Tell Me Where to Se...   \n",
       "00300.834f370a21ca4f1774d5724b5443411c  <HTML>\\n\\n<BODY>\\n\\n<meta http-equiv=\"Content-...   \n",
       "\n",
       "                                        CATEGORY  \n",
       "00279.1d58a13e343c1e53aca2ed2121a3f815         1  \n",
       "00380.a262abe251ca7cc3026e4e146d9cf817         1  \n",
       "00176.79f82496c612ea28f45f13ca5c47f8c2         1  \n",
       "00461.1a27d007492d1c665d07db820b7dc3b8         1  \n",
       "00300.834f370a21ca4f1774d5724b5443411c         1  "
      ]
     },
     "execution_count": 3,
     "metadata": {},
     "output_type": "execute_result"
    }
   ],
   "source": [
    "spam_emails = get_emails_df(SPAM_1_PATH, SPAM_CATEGORY)\n",
    "spam_emails = spam_emails.append(get_emails_df(SPAM_2_PATH, SPAM_CATEGORY))\n",
    "\n",
    "print(spam_emails.shape)\n",
    "spam_emails.head()"
   ]
  },
  {
   "cell_type": "code",
   "execution_count": 4,
   "id": "trying-person",
   "metadata": {},
   "outputs": [
    {
     "name": "stdout",
     "output_type": "stream",
     "text": [
      "(3901, 2)\n"
     ]
    },
    {
     "data": {
      "text/html": [
       "<div>\n",
       "<style scoped>\n",
       "    .dataframe tbody tr th:only-of-type {\n",
       "        vertical-align: middle;\n",
       "    }\n",
       "\n",
       "    .dataframe tbody tr th {\n",
       "        vertical-align: top;\n",
       "    }\n",
       "\n",
       "    .dataframe thead th {\n",
       "        text-align: right;\n",
       "    }\n",
       "</style>\n",
       "<table border=\"1\" class=\"dataframe\">\n",
       "  <thead>\n",
       "    <tr style=\"text-align: right;\">\n",
       "      <th></th>\n",
       "      <th>MESSAGE</th>\n",
       "      <th>CATEGORY</th>\n",
       "    </tr>\n",
       "  </thead>\n",
       "  <tbody>\n",
       "    <tr>\n",
       "      <th>02152.8df514c41920019281f8f0723dad0001</th>\n",
       "      <td>URL: http://www.aaronsw.com/weblog/000622\\n\\nD...</td>\n",
       "      <td>0</td>\n",
       "    </tr>\n",
       "    <tr>\n",
       "      <th>01482.a3576ddec34b0481a9a671c1f3c141c3</th>\n",
       "      <td>Tony L. Svanstrom wrote:\\n\\n\\n\\n&gt;On Sun, 15 Se...</td>\n",
       "      <td>0</td>\n",
       "    </tr>\n",
       "    <tr>\n",
       "      <th>00152.703c271de3d42fb8bf266db6f77a0dda</th>\n",
       "      <td>Thanks for the info AJ, I found \"weblog\" at \\n...</td>\n",
       "      <td>0</td>\n",
       "    </tr>\n",
       "    <tr>\n",
       "      <th>00699.29e599983f044aee500f3a58c34acffc</th>\n",
       "      <td>Gary Lawrence Murphy wrote:\\n\\n\\n\\n&gt;&gt;&gt;&gt;&gt;&gt;\"R\" =...</td>\n",
       "      <td>0</td>\n",
       "    </tr>\n",
       "    <tr>\n",
       "      <th>01846.af884c94693e5cce571396b4fd151167</th>\n",
       "      <td>URL: http://boingboing.net/#85481660\\n\\nDate: ...</td>\n",
       "      <td>0</td>\n",
       "    </tr>\n",
       "  </tbody>\n",
       "</table>\n",
       "</div>"
      ],
      "text/plain": [
       "                                                                                  MESSAGE  \\\n",
       "02152.8df514c41920019281f8f0723dad0001  URL: http://www.aaronsw.com/weblog/000622\\n\\nD...   \n",
       "01482.a3576ddec34b0481a9a671c1f3c141c3  Tony L. Svanstrom wrote:\\n\\n\\n\\n>On Sun, 15 Se...   \n",
       "00152.703c271de3d42fb8bf266db6f77a0dda  Thanks for the info AJ, I found \"weblog\" at \\n...   \n",
       "00699.29e599983f044aee500f3a58c34acffc  Gary Lawrence Murphy wrote:\\n\\n\\n\\n>>>>>>\"R\" =...   \n",
       "01846.af884c94693e5cce571396b4fd151167  URL: http://boingboing.net/#85481660\\n\\nDate: ...   \n",
       "\n",
       "                                        CATEGORY  \n",
       "02152.8df514c41920019281f8f0723dad0001         0  \n",
       "01482.a3576ddec34b0481a9a671c1f3c141c3         0  \n",
       "00152.703c271de3d42fb8bf266db6f77a0dda         0  \n",
       "00699.29e599983f044aee500f3a58c34acffc         0  \n",
       "01846.af884c94693e5cce571396b4fd151167         0  "
      ]
     },
     "execution_count": 4,
     "metadata": {},
     "output_type": "execute_result"
    }
   ],
   "source": [
    "ham_emails = get_emails_df(EASY_NONSPAM_1_PATH, HAM_CATEGORY)\n",
    "ham_emails = ham_emails.append(get_emails_df(EASY_NONSPAM_2_PATH, HAM_CATEGORY))\n",
    "\n",
    "print(ham_emails.shape)\n",
    "ham_emails.head()"
   ]
  },
  {
   "cell_type": "markdown",
   "id": "senior-shore",
   "metadata": {},
   "source": [
    "#### *full-data (spam/nonspam)*"
   ]
  },
  {
   "cell_type": "code",
   "execution_count": 5,
   "id": "comic-prefix",
   "metadata": {},
   "outputs": [
    {
     "data": {
      "text/plain": [
       "(5799, 2)"
      ]
     },
     "execution_count": 5,
     "metadata": {},
     "output_type": "execute_result"
    }
   ],
   "source": [
    "data = pd.concat([spam_emails, ham_emails])\n",
    "data.shape"
   ]
  }
 ],
 "metadata": {
  "kernelspec": {
   "display_name": "Python 3",
   "language": "python",
   "name": "python3"
  },
  "language_info": {
   "codemirror_mode": {
    "name": "ipython",
    "version": 3
   },
   "file_extension": ".py",
   "mimetype": "text/x-python",
   "name": "python",
   "nbconvert_exporter": "python",
   "pygments_lexer": "ipython3",
   "version": "3.8.5"
  }
 },
 "nbformat": 4,
 "nbformat_minor": 5
}
