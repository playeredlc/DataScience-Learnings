{
 "cells": [
  {
   "cell_type": "code",
   "execution_count": 28,
   "id": "similar-simon",
   "metadata": {},
   "outputs": [],
   "source": [
    "%matplotlib inline\n",
    "\n",
    "from email_extractor import get_emails_df # local package\n",
    "import pandas as pd\n",
    "import matplotlib.pyplot as plt"
   ]
  },
  {
   "cell_type": "code",
   "execution_count": 2,
   "id": "atmospheric-characterization",
   "metadata": {},
   "outputs": [],
   "source": [
    "SPAM_1_PATH = 'spam-data/spam_assassin_corpus/spam_1'\n",
    "SPAM_2_PATH = 'spam-data/spam_assassin_corpus/spam_2'\n",
    "EASY_NONSPAM_1_PATH = 'spam-data/spam_assassin_corpus/easy_ham_1'\n",
    "EASY_NONSPAM_2_PATH = 'spam-data/spam_assassin_corpus/easy_ham_2'\n",
    "\n",
    "SPAM_CATEGORY = 1\n",
    "HAM_CATEGORY = 0\n",
    "\n",
    "DATA_JSON_FILE = '~/Área de Trabalho/emails_data.json' # MY desktop path"
   ]
  },
  {
   "cell_type": "markdown",
   "id": "damaged-cricket",
   "metadata": {},
   "source": [
    "# *Gather data:*\n",
    "### *load spam and ham body email DataFrames*"
   ]
  },
  {
   "cell_type": "code",
   "execution_count": 3,
   "id": "exceptional-shooting",
   "metadata": {},
   "outputs": [
    {
     "name": "stdout",
     "output_type": "stream",
     "text": [
      "(1898, 2)\n"
     ]
    },
    {
     "data": {
      "text/html": [
       "<div>\n",
       "<style scoped>\n",
       "    .dataframe tbody tr th:only-of-type {\n",
       "        vertical-align: middle;\n",
       "    }\n",
       "\n",
       "    .dataframe tbody tr th {\n",
       "        vertical-align: top;\n",
       "    }\n",
       "\n",
       "    .dataframe thead th {\n",
       "        text-align: right;\n",
       "    }\n",
       "</style>\n",
       "<table border=\"1\" class=\"dataframe\">\n",
       "  <thead>\n",
       "    <tr style=\"text-align: right;\">\n",
       "      <th></th>\n",
       "      <th>MESSAGE</th>\n",
       "      <th>CATEGORY</th>\n",
       "    </tr>\n",
       "  </thead>\n",
       "  <tbody>\n",
       "    <tr>\n",
       "      <th>00279.1d58a13e343c1e53aca2ed2121a3f815</th>\n",
       "      <td>5, Meridian East\\n\\nLeicester LE3 2WZ \\n\\nLeic...</td>\n",
       "      <td>1</td>\n",
       "    </tr>\n",
       "    <tr>\n",
       "      <th>00380.a262abe251ca7cc3026e4e146d9cf817</th>\n",
       "      <td>&lt;html&gt;\\n\\n&lt;TABLE id=AutoNumber2 style=\"BORDER-...</td>\n",
       "      <td>1</td>\n",
       "    </tr>\n",
       "    <tr>\n",
       "      <th>00176.79f82496c612ea28f45f13ca5c47f8c2</th>\n",
       "      <td>&lt;html&gt;\\n\\n&lt;head&gt;\\n\\n&lt;title&gt;&lt;/title&gt;\\n\\n&lt;/head&gt;...</td>\n",
       "      <td>1</td>\n",
       "    </tr>\n",
       "    <tr>\n",
       "      <th>00461.1a27d007492d1c665d07db820b7dc3b8</th>\n",
       "      <td>&lt;html&gt;\\n\\n&lt;head&gt;\\n\\n&lt;title&gt;Tell Me Where to Se...</td>\n",
       "      <td>1</td>\n",
       "    </tr>\n",
       "    <tr>\n",
       "      <th>00300.834f370a21ca4f1774d5724b5443411c</th>\n",
       "      <td>&lt;HTML&gt;\\n\\n&lt;BODY&gt;\\n\\n&lt;meta http-equiv=\"Content-...</td>\n",
       "      <td>1</td>\n",
       "    </tr>\n",
       "  </tbody>\n",
       "</table>\n",
       "</div>"
      ],
      "text/plain": [
       "                                                                                  MESSAGE  \\\n",
       "00279.1d58a13e343c1e53aca2ed2121a3f815  5, Meridian East\\n\\nLeicester LE3 2WZ \\n\\nLeic...   \n",
       "00380.a262abe251ca7cc3026e4e146d9cf817  <html>\\n\\n<TABLE id=AutoNumber2 style=\"BORDER-...   \n",
       "00176.79f82496c612ea28f45f13ca5c47f8c2  <html>\\n\\n<head>\\n\\n<title></title>\\n\\n</head>...   \n",
       "00461.1a27d007492d1c665d07db820b7dc3b8  <html>\\n\\n<head>\\n\\n<title>Tell Me Where to Se...   \n",
       "00300.834f370a21ca4f1774d5724b5443411c  <HTML>\\n\\n<BODY>\\n\\n<meta http-equiv=\"Content-...   \n",
       "\n",
       "                                        CATEGORY  \n",
       "00279.1d58a13e343c1e53aca2ed2121a3f815         1  \n",
       "00380.a262abe251ca7cc3026e4e146d9cf817         1  \n",
       "00176.79f82496c612ea28f45f13ca5c47f8c2         1  \n",
       "00461.1a27d007492d1c665d07db820b7dc3b8         1  \n",
       "00300.834f370a21ca4f1774d5724b5443411c         1  "
      ]
     },
     "execution_count": 3,
     "metadata": {},
     "output_type": "execute_result"
    }
   ],
   "source": [
    "spam_emails = get_emails_df(SPAM_1_PATH, SPAM_CATEGORY)\n",
    "spam_emails = spam_emails.append(get_emails_df(SPAM_2_PATH, SPAM_CATEGORY))\n",
    "\n",
    "print(spam_emails.shape)\n",
    "spam_emails.head()"
   ]
  },
  {
   "cell_type": "code",
   "execution_count": 4,
   "id": "trying-person",
   "metadata": {},
   "outputs": [
    {
     "name": "stdout",
     "output_type": "stream",
     "text": [
      "(3901, 2)\n"
     ]
    },
    {
     "data": {
      "text/html": [
       "<div>\n",
       "<style scoped>\n",
       "    .dataframe tbody tr th:only-of-type {\n",
       "        vertical-align: middle;\n",
       "    }\n",
       "\n",
       "    .dataframe tbody tr th {\n",
       "        vertical-align: top;\n",
       "    }\n",
       "\n",
       "    .dataframe thead th {\n",
       "        text-align: right;\n",
       "    }\n",
       "</style>\n",
       "<table border=\"1\" class=\"dataframe\">\n",
       "  <thead>\n",
       "    <tr style=\"text-align: right;\">\n",
       "      <th></th>\n",
       "      <th>MESSAGE</th>\n",
       "      <th>CATEGORY</th>\n",
       "    </tr>\n",
       "  </thead>\n",
       "  <tbody>\n",
       "    <tr>\n",
       "      <th>02152.8df514c41920019281f8f0723dad0001</th>\n",
       "      <td>URL: http://www.aaronsw.com/weblog/000622\\n\\nD...</td>\n",
       "      <td>0</td>\n",
       "    </tr>\n",
       "    <tr>\n",
       "      <th>01482.a3576ddec34b0481a9a671c1f3c141c3</th>\n",
       "      <td>Tony L. Svanstrom wrote:\\n\\n\\n\\n&gt;On Sun, 15 Se...</td>\n",
       "      <td>0</td>\n",
       "    </tr>\n",
       "    <tr>\n",
       "      <th>00152.703c271de3d42fb8bf266db6f77a0dda</th>\n",
       "      <td>Thanks for the info AJ, I found \"weblog\" at \\n...</td>\n",
       "      <td>0</td>\n",
       "    </tr>\n",
       "    <tr>\n",
       "      <th>00699.29e599983f044aee500f3a58c34acffc</th>\n",
       "      <td>Gary Lawrence Murphy wrote:\\n\\n\\n\\n&gt;&gt;&gt;&gt;&gt;&gt;\"R\" =...</td>\n",
       "      <td>0</td>\n",
       "    </tr>\n",
       "    <tr>\n",
       "      <th>01846.af884c94693e5cce571396b4fd151167</th>\n",
       "      <td>URL: http://boingboing.net/#85481660\\n\\nDate: ...</td>\n",
       "      <td>0</td>\n",
       "    </tr>\n",
       "  </tbody>\n",
       "</table>\n",
       "</div>"
      ],
      "text/plain": [
       "                                                                                  MESSAGE  \\\n",
       "02152.8df514c41920019281f8f0723dad0001  URL: http://www.aaronsw.com/weblog/000622\\n\\nD...   \n",
       "01482.a3576ddec34b0481a9a671c1f3c141c3  Tony L. Svanstrom wrote:\\n\\n\\n\\n>On Sun, 15 Se...   \n",
       "00152.703c271de3d42fb8bf266db6f77a0dda  Thanks for the info AJ, I found \"weblog\" at \\n...   \n",
       "00699.29e599983f044aee500f3a58c34acffc  Gary Lawrence Murphy wrote:\\n\\n\\n\\n>>>>>>\"R\" =...   \n",
       "01846.af884c94693e5cce571396b4fd151167  URL: http://boingboing.net/#85481660\\n\\nDate: ...   \n",
       "\n",
       "                                        CATEGORY  \n",
       "02152.8df514c41920019281f8f0723dad0001         0  \n",
       "01482.a3576ddec34b0481a9a671c1f3c141c3         0  \n",
       "00152.703c271de3d42fb8bf266db6f77a0dda         0  \n",
       "00699.29e599983f044aee500f3a58c34acffc         0  \n",
       "01846.af884c94693e5cce571396b4fd151167         0  "
      ]
     },
     "execution_count": 4,
     "metadata": {},
     "output_type": "execute_result"
    }
   ],
   "source": [
    "ham_emails = get_emails_df(EASY_NONSPAM_1_PATH, HAM_CATEGORY)\n",
    "ham_emails = ham_emails.append(get_emails_df(EASY_NONSPAM_2_PATH, HAM_CATEGORY))\n",
    "\n",
    "print(ham_emails.shape)\n",
    "ham_emails.head()"
   ]
  },
  {
   "cell_type": "markdown",
   "id": "senior-shore",
   "metadata": {},
   "source": [
    "#### *full-data (spam/nonspam)*"
   ]
  },
  {
   "cell_type": "code",
   "execution_count": 5,
   "id": "comic-prefix",
   "metadata": {},
   "outputs": [
    {
     "data": {
      "text/plain": [
       "(5799, 2)"
      ]
     },
     "execution_count": 5,
     "metadata": {},
     "output_type": "execute_result"
    }
   ],
   "source": [
    "data = pd.concat([spam_emails, ham_emails])\n",
    "data.shape"
   ]
  },
  {
   "cell_type": "markdown",
   "id": "allied-restoration",
   "metadata": {},
   "source": [
    "# *Data cleaning*"
   ]
  },
  {
   "cell_type": "code",
   "execution_count": 6,
   "id": "initial-judgment",
   "metadata": {},
   "outputs": [
    {
     "data": {
      "text/plain": [
       "False"
      ]
     },
     "execution_count": 6,
     "metadata": {},
     "output_type": "execute_result"
    }
   ],
   "source": [
    "# checking for null values\n",
    "data.MESSAGE.isnull().values.any() # \"Returns False unless there is at least one element within a series or along a Dataframe axis that is True or equivalent\"\n",
    "# data.MESSAGE.isnull().sum()"
   ]
  },
  {
   "cell_type": "code",
   "execution_count": 7,
   "id": "contemporary-imagination",
   "metadata": {},
   "outputs": [
    {
     "name": "stdout",
     "output_type": "stream",
     "text": [
      "True\n",
      "3\n"
     ]
    }
   ],
   "source": [
    "# checking for empty emails\n",
    "print((data.MESSAGE.str.len() == 0).any())\n",
    "# checking how many empty emails in the dataset\n",
    "print((data.MESSAGE.str.len() == 0).sum())"
   ]
  },
  {
   "cell_type": "code",
   "execution_count": 8,
   "id": "established-meter",
   "metadata": {
    "scrolled": false
   },
   "outputs": [
    {
     "name": "stdout",
     "output_type": "stream",
     "text": [
      "Index(['cmds', 'cmds', 'cmds'], dtype='object')\n"
     ]
    }
   ],
   "source": [
    "# locate empty emails and remove empty emails\n",
    "print(data[(data.MESSAGE.str.len() == 0)].index)\n",
    "data.drop(['cmds'], inplace=True)"
   ]
  },
  {
   "cell_type": "code",
   "execution_count": 9,
   "id": "stable-pepper",
   "metadata": {},
   "outputs": [
    {
     "name": "stdout",
     "output_type": "stream",
     "text": [
      "False\n"
     ]
    }
   ],
   "source": [
    "# re-check if drop was successful.\n",
    "print((data.MESSAGE.str.len() == 0).any())"
   ]
  },
  {
   "cell_type": "markdown",
   "id": "intelligent-washer",
   "metadata": {},
   "source": [
    "#### *Add IDs to emails for better dataset manipulation*"
   ]
  },
  {
   "cell_type": "code",
   "execution_count": 10,
   "id": "positive-bradley",
   "metadata": {},
   "outputs": [
    {
     "name": "stdout",
     "output_type": "stream",
     "text": [
      "5796\n"
     ]
    },
    {
     "data": {
      "text/html": [
       "<div>\n",
       "<style scoped>\n",
       "    .dataframe tbody tr th:only-of-type {\n",
       "        vertical-align: middle;\n",
       "    }\n",
       "\n",
       "    .dataframe tbody tr th {\n",
       "        vertical-align: top;\n",
       "    }\n",
       "\n",
       "    .dataframe thead th {\n",
       "        text-align: right;\n",
       "    }\n",
       "</style>\n",
       "<table border=\"1\" class=\"dataframe\">\n",
       "  <thead>\n",
       "    <tr style=\"text-align: right;\">\n",
       "      <th></th>\n",
       "      <th>MESSAGE</th>\n",
       "      <th>CATEGORY</th>\n",
       "      <th>DOC_ID</th>\n",
       "    </tr>\n",
       "  </thead>\n",
       "  <tbody>\n",
       "    <tr>\n",
       "      <th>00279.1d58a13e343c1e53aca2ed2121a3f815</th>\n",
       "      <td>5, Meridian East\\n\\nLeicester LE3 2WZ \\n\\nLeic...</td>\n",
       "      <td>1</td>\n",
       "      <td>0</td>\n",
       "    </tr>\n",
       "    <tr>\n",
       "      <th>00380.a262abe251ca7cc3026e4e146d9cf817</th>\n",
       "      <td>&lt;html&gt;\\n\\n&lt;TABLE id=AutoNumber2 style=\"BORDER-...</td>\n",
       "      <td>1</td>\n",
       "      <td>1</td>\n",
       "    </tr>\n",
       "    <tr>\n",
       "      <th>00176.79f82496c612ea28f45f13ca5c47f8c2</th>\n",
       "      <td>&lt;html&gt;\\n\\n&lt;head&gt;\\n\\n&lt;title&gt;&lt;/title&gt;\\n\\n&lt;/head&gt;...</td>\n",
       "      <td>1</td>\n",
       "      <td>2</td>\n",
       "    </tr>\n",
       "    <tr>\n",
       "      <th>00461.1a27d007492d1c665d07db820b7dc3b8</th>\n",
       "      <td>&lt;html&gt;\\n\\n&lt;head&gt;\\n\\n&lt;title&gt;Tell Me Where to Se...</td>\n",
       "      <td>1</td>\n",
       "      <td>3</td>\n",
       "    </tr>\n",
       "    <tr>\n",
       "      <th>00300.834f370a21ca4f1774d5724b5443411c</th>\n",
       "      <td>&lt;HTML&gt;\\n\\n&lt;BODY&gt;\\n\\n&lt;meta http-equiv=\"Content-...</td>\n",
       "      <td>1</td>\n",
       "      <td>4</td>\n",
       "    </tr>\n",
       "    <tr>\n",
       "      <th>...</th>\n",
       "      <td>...</td>\n",
       "      <td>...</td>\n",
       "      <td>...</td>\n",
       "    </tr>\n",
       "    <tr>\n",
       "      <th>01264.df4dfa46001904d832d56d2eabd4894d</th>\n",
       "      <td>On Fri, Aug 16, 2002 at 07:58:07PM +0200, Tors...</td>\n",
       "      <td>0</td>\n",
       "      <td>5791</td>\n",
       "    </tr>\n",
       "    <tr>\n",
       "      <th>01298.c00e52eb757de239c8863a7a01ea0544</th>\n",
       "      <td>Update of /cvsroot/spamassassin/spamassassin\\n...</td>\n",
       "      <td>0</td>\n",
       "      <td>5792</td>\n",
       "    </tr>\n",
       "    <tr>\n",
       "      <th>00908.fa150b0b994587469112fbcb7e8cc2bc</th>\n",
       "      <td>On Fri, 2002-07-26 at 11:50, Ian Andrew Bell w...</td>\n",
       "      <td>0</td>\n",
       "      <td>5793</td>\n",
       "    </tr>\n",
       "    <tr>\n",
       "      <th>00077.7a4f2e80b3a2e2c1cc2442f54a9e01ee</th>\n",
       "      <td>On Fri, Jul 19, 2002 at 10:00:02PM +0100, Matt...</td>\n",
       "      <td>0</td>\n",
       "      <td>5794</td>\n",
       "    </tr>\n",
       "    <tr>\n",
       "      <th>00605.72e165cec076afb86bf1c0487a102bce</th>\n",
       "      <td>Craig, \\n\\n\\n\\nThe problems with missing hashe...</td>\n",
       "      <td>0</td>\n",
       "      <td>5795</td>\n",
       "    </tr>\n",
       "  </tbody>\n",
       "</table>\n",
       "<p>5796 rows × 3 columns</p>\n",
       "</div>"
      ],
      "text/plain": [
       "                                                                                  MESSAGE  \\\n",
       "00279.1d58a13e343c1e53aca2ed2121a3f815  5, Meridian East\\n\\nLeicester LE3 2WZ \\n\\nLeic...   \n",
       "00380.a262abe251ca7cc3026e4e146d9cf817  <html>\\n\\n<TABLE id=AutoNumber2 style=\"BORDER-...   \n",
       "00176.79f82496c612ea28f45f13ca5c47f8c2  <html>\\n\\n<head>\\n\\n<title></title>\\n\\n</head>...   \n",
       "00461.1a27d007492d1c665d07db820b7dc3b8  <html>\\n\\n<head>\\n\\n<title>Tell Me Where to Se...   \n",
       "00300.834f370a21ca4f1774d5724b5443411c  <HTML>\\n\\n<BODY>\\n\\n<meta http-equiv=\"Content-...   \n",
       "...                                                                                   ...   \n",
       "01264.df4dfa46001904d832d56d2eabd4894d  On Fri, Aug 16, 2002 at 07:58:07PM +0200, Tors...   \n",
       "01298.c00e52eb757de239c8863a7a01ea0544  Update of /cvsroot/spamassassin/spamassassin\\n...   \n",
       "00908.fa150b0b994587469112fbcb7e8cc2bc  On Fri, 2002-07-26 at 11:50, Ian Andrew Bell w...   \n",
       "00077.7a4f2e80b3a2e2c1cc2442f54a9e01ee  On Fri, Jul 19, 2002 at 10:00:02PM +0100, Matt...   \n",
       "00605.72e165cec076afb86bf1c0487a102bce  Craig, \\n\\n\\n\\nThe problems with missing hashe...   \n",
       "\n",
       "                                        CATEGORY  DOC_ID  \n",
       "00279.1d58a13e343c1e53aca2ed2121a3f815         1       0  \n",
       "00380.a262abe251ca7cc3026e4e146d9cf817         1       1  \n",
       "00176.79f82496c612ea28f45f13ca5c47f8c2         1       2  \n",
       "00461.1a27d007492d1c665d07db820b7dc3b8         1       3  \n",
       "00300.834f370a21ca4f1774d5724b5443411c         1       4  \n",
       "...                                          ...     ...  \n",
       "01264.df4dfa46001904d832d56d2eabd4894d         0    5791  \n",
       "01298.c00e52eb757de239c8863a7a01ea0544         0    5792  \n",
       "00908.fa150b0b994587469112fbcb7e8cc2bc         0    5793  \n",
       "00077.7a4f2e80b3a2e2c1cc2442f54a9e01ee         0    5794  \n",
       "00605.72e165cec076afb86bf1c0487a102bce         0    5795  \n",
       "\n",
       "[5796 rows x 3 columns]"
      ]
     },
     "execution_count": 10,
     "metadata": {},
     "output_type": "execute_result"
    }
   ],
   "source": [
    "print(len(data.index))\n",
    "document_ids = range(0, len(data.index))\n",
    "data['DOC_ID'] = document_ids # add new column\n",
    "\n",
    "data"
   ]
  },
  {
   "cell_type": "code",
   "execution_count": 11,
   "id": "surface-field",
   "metadata": {},
   "outputs": [],
   "source": [
    "# rearrange columns\n",
    "data['FILE_NAME'] = data.index # add new column with file_names\n",
    "data.set_index('DOC_ID', inplace=True) # set the index as DOC_ID"
   ]
  },
  {
   "cell_type": "code",
   "execution_count": 12,
   "id": "framed-watershed",
   "metadata": {
    "scrolled": true
   },
   "outputs": [
    {
     "data": {
      "text/html": [
       "<div>\n",
       "<style scoped>\n",
       "    .dataframe tbody tr th:only-of-type {\n",
       "        vertical-align: middle;\n",
       "    }\n",
       "\n",
       "    .dataframe tbody tr th {\n",
       "        vertical-align: top;\n",
       "    }\n",
       "\n",
       "    .dataframe thead th {\n",
       "        text-align: right;\n",
       "    }\n",
       "</style>\n",
       "<table border=\"1\" class=\"dataframe\">\n",
       "  <thead>\n",
       "    <tr style=\"text-align: right;\">\n",
       "      <th></th>\n",
       "      <th>MESSAGE</th>\n",
       "      <th>CATEGORY</th>\n",
       "      <th>FILE_NAME</th>\n",
       "    </tr>\n",
       "    <tr>\n",
       "      <th>DOC_ID</th>\n",
       "      <th></th>\n",
       "      <th></th>\n",
       "      <th></th>\n",
       "    </tr>\n",
       "  </thead>\n",
       "  <tbody>\n",
       "    <tr>\n",
       "      <th>0</th>\n",
       "      <td>5, Meridian East\\n\\nLeicester LE3 2WZ \\n\\nLeic...</td>\n",
       "      <td>1</td>\n",
       "      <td>00279.1d58a13e343c1e53aca2ed2121a3f815</td>\n",
       "    </tr>\n",
       "    <tr>\n",
       "      <th>1</th>\n",
       "      <td>&lt;html&gt;\\n\\n&lt;TABLE id=AutoNumber2 style=\"BORDER-...</td>\n",
       "      <td>1</td>\n",
       "      <td>00380.a262abe251ca7cc3026e4e146d9cf817</td>\n",
       "    </tr>\n",
       "    <tr>\n",
       "      <th>2</th>\n",
       "      <td>&lt;html&gt;\\n\\n&lt;head&gt;\\n\\n&lt;title&gt;&lt;/title&gt;\\n\\n&lt;/head&gt;...</td>\n",
       "      <td>1</td>\n",
       "      <td>00176.79f82496c612ea28f45f13ca5c47f8c2</td>\n",
       "    </tr>\n",
       "    <tr>\n",
       "      <th>3</th>\n",
       "      <td>&lt;html&gt;\\n\\n&lt;head&gt;\\n\\n&lt;title&gt;Tell Me Where to Se...</td>\n",
       "      <td>1</td>\n",
       "      <td>00461.1a27d007492d1c665d07db820b7dc3b8</td>\n",
       "    </tr>\n",
       "    <tr>\n",
       "      <th>4</th>\n",
       "      <td>&lt;HTML&gt;\\n\\n&lt;BODY&gt;\\n\\n&lt;meta http-equiv=\"Content-...</td>\n",
       "      <td>1</td>\n",
       "      <td>00300.834f370a21ca4f1774d5724b5443411c</td>\n",
       "    </tr>\n",
       "    <tr>\n",
       "      <th>...</th>\n",
       "      <td>...</td>\n",
       "      <td>...</td>\n",
       "      <td>...</td>\n",
       "    </tr>\n",
       "    <tr>\n",
       "      <th>5791</th>\n",
       "      <td>On Fri, Aug 16, 2002 at 07:58:07PM +0200, Tors...</td>\n",
       "      <td>0</td>\n",
       "      <td>01264.df4dfa46001904d832d56d2eabd4894d</td>\n",
       "    </tr>\n",
       "    <tr>\n",
       "      <th>5792</th>\n",
       "      <td>Update of /cvsroot/spamassassin/spamassassin\\n...</td>\n",
       "      <td>0</td>\n",
       "      <td>01298.c00e52eb757de239c8863a7a01ea0544</td>\n",
       "    </tr>\n",
       "    <tr>\n",
       "      <th>5793</th>\n",
       "      <td>On Fri, 2002-07-26 at 11:50, Ian Andrew Bell w...</td>\n",
       "      <td>0</td>\n",
       "      <td>00908.fa150b0b994587469112fbcb7e8cc2bc</td>\n",
       "    </tr>\n",
       "    <tr>\n",
       "      <th>5794</th>\n",
       "      <td>On Fri, Jul 19, 2002 at 10:00:02PM +0100, Matt...</td>\n",
       "      <td>0</td>\n",
       "      <td>00077.7a4f2e80b3a2e2c1cc2442f54a9e01ee</td>\n",
       "    </tr>\n",
       "    <tr>\n",
       "      <th>5795</th>\n",
       "      <td>Craig, \\n\\n\\n\\nThe problems with missing hashe...</td>\n",
       "      <td>0</td>\n",
       "      <td>00605.72e165cec076afb86bf1c0487a102bce</td>\n",
       "    </tr>\n",
       "  </tbody>\n",
       "</table>\n",
       "<p>5796 rows × 3 columns</p>\n",
       "</div>"
      ],
      "text/plain": [
       "                                                  MESSAGE  CATEGORY  \\\n",
       "DOC_ID                                                                \n",
       "0       5, Meridian East\\n\\nLeicester LE3 2WZ \\n\\nLeic...         1   \n",
       "1       <html>\\n\\n<TABLE id=AutoNumber2 style=\"BORDER-...         1   \n",
       "2       <html>\\n\\n<head>\\n\\n<title></title>\\n\\n</head>...         1   \n",
       "3       <html>\\n\\n<head>\\n\\n<title>Tell Me Where to Se...         1   \n",
       "4       <HTML>\\n\\n<BODY>\\n\\n<meta http-equiv=\"Content-...         1   \n",
       "...                                                   ...       ...   \n",
       "5791    On Fri, Aug 16, 2002 at 07:58:07PM +0200, Tors...         0   \n",
       "5792    Update of /cvsroot/spamassassin/spamassassin\\n...         0   \n",
       "5793    On Fri, 2002-07-26 at 11:50, Ian Andrew Bell w...         0   \n",
       "5794    On Fri, Jul 19, 2002 at 10:00:02PM +0100, Matt...         0   \n",
       "5795    Craig, \\n\\n\\n\\nThe problems with missing hashe...         0   \n",
       "\n",
       "                                     FILE_NAME  \n",
       "DOC_ID                                          \n",
       "0       00279.1d58a13e343c1e53aca2ed2121a3f815  \n",
       "1       00380.a262abe251ca7cc3026e4e146d9cf817  \n",
       "2       00176.79f82496c612ea28f45f13ca5c47f8c2  \n",
       "3       00461.1a27d007492d1c665d07db820b7dc3b8  \n",
       "4       00300.834f370a21ca4f1774d5724b5443411c  \n",
       "...                                        ...  \n",
       "5791    01264.df4dfa46001904d832d56d2eabd4894d  \n",
       "5792    01298.c00e52eb757de239c8863a7a01ea0544  \n",
       "5793    00908.fa150b0b994587469112fbcb7e8cc2bc  \n",
       "5794    00077.7a4f2e80b3a2e2c1cc2442f54a9e01ee  \n",
       "5795    00605.72e165cec076afb86bf1c0487a102bce  \n",
       "\n",
       "[5796 rows x 3 columns]"
      ]
     },
     "execution_count": 12,
     "metadata": {},
     "output_type": "execute_result"
    }
   ],
   "source": [
    "data"
   ]
  },
  {
   "cell_type": "markdown",
   "id": "coupled-headset",
   "metadata": {},
   "source": [
    "#### *Export cleaned data as JSON file*"
   ]
  },
  {
   "cell_type": "code",
   "execution_count": 13,
   "id": "unexpected-seafood",
   "metadata": {},
   "outputs": [],
   "source": [
    "data.to_json(DATA_JSON_FILE) # exported to desktop for now"
   ]
  },
  {
   "cell_type": "markdown",
   "id": "harmful-submission",
   "metadata": {},
   "source": [
    "---"
   ]
  },
  {
   "cell_type": "markdown",
   "id": "uniform-second",
   "metadata": {},
   "source": [
    "# *Data Visualization*"
   ]
  },
  {
   "cell_type": "code",
   "execution_count": 27,
   "id": "scheduled-colony",
   "metadata": {},
   "outputs": [
    {
     "name": "stdout",
     "output_type": "stream",
     "text": [
      "3900 1896\n"
     ]
    }
   ],
   "source": [
    "data.CATEGORY.value_counts()\n",
    "amount_ham, amount_spam = data.CATEGORY.value_counts()\n",
    "print(amount_ham, amount_spam)"
   ]
  },
  {
   "cell_type": "code",
   "execution_count": 99,
   "id": "exotic-vietnamese",
   "metadata": {
    "scrolled": true
   },
   "outputs": [
    {
     "data": {
      "image/png": "[encoded data removed]",
      "text/plain": [
       "<Figure size 432x432 with 1 Axes>"
      ]
     },
     "metadata": {},
     "output_type": "display_data"
    }
   ],
   "source": [
    "# Generate pie chart\n",
    "category_names = ['Spam', 'Nonspam']\n",
    "sizes = [amount_spam, amount_ham]\n",
    "pie_colors = ['#ff5252', '#33d9b2']\n",
    "plt.figure(figsize=(6, 6))\n",
    "plt.pie(sizes, labels=category_names, \n",
    "        textprops={'fontsize': 16}, startangle=90, \n",
    "        autopct='%1.0f%%', colors=pie_colors,\n",
    "        explode=[0, 0.05], shadow=True         \n",
    "       )\n",
    "plt.show()"
   ]
  },
  {
   "cell_type": "code",
   "execution_count": 110,
   "id": "actual-relevance",
   "metadata": {},
   "outputs": [
    {
     "data": {
      "image/png": "[encoded data removed]",
      "text/plain": [
       "<Figure size 432x432 with 1 Axes>"
      ]
     },
     "metadata": {},
     "output_type": "display_data"
    }
   ],
   "source": [
    "# Generate donut chart \n",
    "# more useful when dealing with a higher number of categories\n",
    "# Leaving it here for reference only\n",
    "category_names = ['Dummy cat1', 'Dummy cat2', 'Dummy cat3', 'Dummy cat4', 'Dummy cat5']\n",
    "sizes = [25, 33, 14, 19, 9] # dummy values\n",
    "pie_colors = ['#ff5252', '#33d9b2', '#706fd3', '#ff793f', '#34ace0']\n",
    "offset = [0.03, 0.03, 0.03, 0.03, 0.03]\n",
    "plt.figure(figsize=(6, 6))\n",
    "plt.pie(sizes, labels=category_names, \n",
    "        textprops={'fontsize': 16}, startangle=90, \n",
    "        autopct='%1.0f%%', colors=pie_colors,\n",
    "        explode=offset, pctdistance=0.83)\n",
    "# draw a circle inside\n",
    "center_circle = plt.Circle((0,0), radius=0.7, fc='white') # fc must match the background color\n",
    "plt.gca().add_artist(center_circle)\n",
    "plt.show()"
   ]
  },
  {
   "cell_type": "markdown",
   "id": "sorted-enforcement",
   "metadata": {},
   "source": [
    "---"
   ]
  },
  {
   "cell_type": "code",
   "execution_count": null,
   "id": "sweet-oxygen",
   "metadata": {},
   "outputs": [],
   "source": []
  }
 ],
 "metadata": {
  "kernelspec": {
   "display_name": "Python 3",
   "language": "python",
   "name": "python3"
  },
  "language_info": {
   "codemirror_mode": {
    "name": "ipython",
    "version": 3
   },
   "file_extension": ".py",
   "mimetype": "text/x-python",
   "name": "python",
   "nbconvert_exporter": "python",
   "pygments_lexer": "ipython3",
   "version": "3.8.5"
  }
 },
 "nbformat": 4,
 "nbformat_minor": 5
}
