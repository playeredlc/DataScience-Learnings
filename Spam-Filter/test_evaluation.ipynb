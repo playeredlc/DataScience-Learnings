{
 "cells": [
  {
   "cell_type": "code",
   "execution_count": 1,
   "id": "aggressive-screen",
   "metadata": {},
   "outputs": [],
   "source": [
    "%matplotlib inline\n",
    "\n",
    "import pandas as pd\n",
    "import numpy as np\n",
    "import matplotlib.pyplot as plt\n",
    "import seaborn as sns"
   ]
  },
  {
   "cell_type": "code",
   "execution_count": 2,
   "id": "starting-cameroon",
   "metadata": {},
   "outputs": [],
   "source": [
    "VOCAB_SIZE = 2500\n",
    "\n",
    "TOKEN_SPAM_PROB_FILE = 'spam-data/token-spam-prob.txt'\n",
    "TOKEN_HAM_PROB_FILE = 'spam-data/token-ham-prob.txt'\n",
    "TOKEN_OVERALL_PROB_FILE = 'spam-data/token-overall-prob.txt'\n",
    "\n",
    "TEST_FEATURE_MATRIX = 'spam-data/test-features.txt'\n",
    "TEST_TARGET_FILE = 'spam-data/test-target.txt'"
   ]
  },
  {
   "cell_type": "markdown",
   "id": "based-danger",
   "metadata": {},
   "source": [
    "## *Load data*"
   ]
  },
  {
   "cell_type": "code",
   "execution_count": 3,
   "id": "driven-ukraine",
   "metadata": {},
   "outputs": [],
   "source": [
    "X_test = np.loadtxt(TEST_FEATURE_MATRIX, delimiter=' ') # features\n",
    "y_test = np.loadtxt(TEST_TARGET_FILE, delimiter=' ') # target\n",
    "\n",
    "# probabilities\n",
    "prob_token_spam = np.loadtxt(TOKEN_SPAM_PROB_FILE, delimiter=' ')\n",
    "prob_token_ham = np.loadtxt(TOKEN_HAM_PROB_FILE, delimiter=' ')\n",
    "prob_token_overall = np.loadtxt(TOKEN_OVERALL_PROB_FILE, delimiter=' ')"
   ]
  }
 ],
 "metadata": {
  "kernelspec": {
   "display_name": "Python 3",
   "language": "python",
   "name": "python3"
  },
  "language_info": {
   "codemirror_mode": {
    "name": "ipython",
    "version": 3
   },
   "file_extension": ".py",
   "mimetype": "text/x-python",
   "name": "python",
   "nbconvert_exporter": "python",
   "pygments_lexer": "ipython3",
   "version": "3.8.5"
  }
 },
 "nbformat": 4,
 "nbformat_minor": 5
}
