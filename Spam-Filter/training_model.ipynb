{
 "cells": [
  {
   "cell_type": "code",
   "execution_count": 1,
   "id": "neural-contract",
   "metadata": {},
   "outputs": [],
   "source": [
    "import numpy as np\n",
    "import pandas as pd"
   ]
  },
  {
   "cell_type": "code",
   "execution_count": 2,
   "id": "accompanied-luxury",
   "metadata": {},
   "outputs": [],
   "source": [
    "VOCAB_SIZE = 2500\n",
    "\n",
    "TRAIN_DATA_FILE = 'spam-data/train-data.txt'\n",
    "TEST_DATA_FILE = 'spam-data/test-data.txt'"
   ]
  },
  {
   "cell_type": "markdown",
   "id": "affecting-bouquet",
   "metadata": {},
   "source": [
    "# *Load the data generated from the pre_proccess stage*"
   ]
  },
  {
   "cell_type": "code",
   "execution_count": 3,
   "id": "planned-mortality",
   "metadata": {},
   "outputs": [
    {
     "name": "stdout",
     "output_type": "stream",
     "text": [
      "CPU times: user 4.44 s, sys: 60.3 ms, total: 4.5 s\n",
      "Wall time: 4.51 s\n"
     ]
    }
   ],
   "source": [
    "%%time\n",
    "\n",
    "sparse_train_data = np.loadtxt(TRAIN_DATA_FILE, delimiter=' ', dtype=int)\n",
    "sparse_test_data = np.loadtxt(TEST_DATA_FILE, delimiter=' ', dtype=int)\n",
    "\n",
    "# CPU times: user 4.44 s, sys: 60.3 ms, total: 4.5 s\n",
    "# Wall time: 4.51 s"
   ]
  },
  {
   "cell_type": "code",
   "execution_count": 4,
   "id": "stuffed-tourism",
   "metadata": {},
   "outputs": [
    {
     "name": "stdout",
     "output_type": "stream",
     "text": [
      "train:\n",
      " [[0 1 1 1]\n",
      " [0 5 1 1]\n",
      " [0 6 1 1]] \n",
      "---\n",
      " [[5795 2144    0    1]\n",
      " [5795 2267    0    1]\n",
      " [5795 2303    0    1]]\n",
      "test: \n",
      " [[8 0 1 2]\n",
      " [8 2 1 1]\n",
      " [8 3 1 1]] \n",
      "---\n",
      " [[5793 1872    0    1]\n",
      " [5793 1964    0    1]\n",
      " [5793 2310    0    1]]\n"
     ]
    }
   ],
   "source": [
    "# quick check the data loaded\n",
    "print('train:\\n', sparse_train_data[:3], '\\n---\\n',sparse_train_data[-3:])\n",
    "print('test: \\n', sparse_test_data[:3], '\\n---\\n', sparse_test_data[-3:])"
   ]
  },
  {
   "cell_type": "code",
   "execution_count": 5,
   "id": "isolated-clock",
   "metadata": {},
   "outputs": [
    {
     "name": "stdout",
     "output_type": "stream",
     "text": [
      "Rows in TRAINING file:  264056\n",
      "Emails in TRAINING file:  4016\n",
      "\n",
      "\n",
      "Rows in TESTING file:  112088\n",
      "Emails in TESTING file:  1721\n"
     ]
    }
   ],
   "source": [
    "print('Rows in TRAINING file: ', sparse_train_data.shape[0])\n",
    "print('Emails in TRAINING file: ', np.unique(sparse_train_data[:, 0]).size)\n",
    "print('\\n')\n",
    "print('Rows in TESTING file: ', sparse_test_data.shape[0])\n",
    "print('Emails in TESTING file: ', np.unique(sparse_test_data[:, 0]).size)"
   ]
  },
  {
   "cell_type": "markdown",
   "id": "extra-confidentiality",
   "metadata": {},
   "source": [
    "---"
   ]
  }
 ],
 "metadata": {
  "kernelspec": {
   "display_name": "Python 3",
   "language": "python",
   "name": "python3"
  },
  "language_info": {
   "codemirror_mode": {
    "name": "ipython",
    "version": 3
   },
   "file_extension": ".py",
   "mimetype": "text/x-python",
   "name": "python",
   "nbconvert_exporter": "python",
   "pygments_lexer": "ipython3",
   "version": "3.8.5"
  }
 },
 "nbformat": 4,
 "nbformat_minor": 5
}
